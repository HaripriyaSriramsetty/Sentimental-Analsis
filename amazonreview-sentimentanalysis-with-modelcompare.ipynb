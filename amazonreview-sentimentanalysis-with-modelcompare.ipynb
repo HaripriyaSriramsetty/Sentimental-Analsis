{
 "cells": [
  {
   "cell_type": "markdown",
   "id": "1511a45f",
   "metadata": {
    "papermill": {
     "duration": 0.038548,
     "end_time": "2022-04-15T14:08:12.438668",
     "exception": false,
     "start_time": "2022-04-15T14:08:12.400120",
     "status": "completed"
    },
    "tags": []
   },
   "source": [
    "# Import Required Packages"
   ]
  },
  {
   "cell_type": "code",
   "execution_count": 6,
   "id": "48a89c87",
   "metadata": {},
   "outputs": [
    {
     "name": "stdout",
     "output_type": "stream",
     "text": [
      "Requirement already satisfied: pandas in c:\\users\\lenovo\\onedrive\\desktop\\major-project-hari\\sentiment-analysis-ml-flask-app\\venv\\lib\\site-packages (1.4.2)\n",
      "Requirement already satisfied: numpy>=1.21.0 in c:\\users\\lenovo\\onedrive\\desktop\\major-project-hari\\sentiment-analysis-ml-flask-app\\venv\\lib\\site-packages (from pandas) (1.22.3)\n",
      "Requirement already satisfied: pytz>=2020.1 in c:\\users\\lenovo\\onedrive\\desktop\\major-project-hari\\sentiment-analysis-ml-flask-app\\venv\\lib\\site-packages (from pandas) (2022.1)\n",
      "Requirement already satisfied: python-dateutil>=2.8.1 in c:\\users\\lenovo\\onedrive\\desktop\\major-project-hari\\sentiment-analysis-ml-flask-app\\venv\\lib\\site-packages (from pandas) (2.8.2)\n",
      "Requirement already satisfied: six>=1.5 in c:\\users\\lenovo\\onedrive\\desktop\\major-project-hari\\sentiment-analysis-ml-flask-app\\venv\\lib\\site-packages (from python-dateutil>=2.8.1->pandas) (1.16.0)\n",
      "Note: you may need to restart the kernel to use updated packages.\n",
      "Requirement already satisfied: numpy in c:\\users\\lenovo\\onedrive\\desktop\\major-project-hari\\sentiment-analysis-ml-flask-app\\venv\\lib\\site-packages (1.22.3)Note: you may need to restart the kernel to use updated packages.\n",
      "\n",
      "Requirement already satisfied: pandas in c:\\users\\lenovo\\onedrive\\desktop\\major-project-hari\\sentiment-analysis-ml-flask-app\\venv\\lib\\site-packages (1.4.2)Note: you may need to restart the kernel to use updated packages.\n",
      "\n",
      "Requirement already satisfied: pytz>=2020.1 in c:\\users\\lenovo\\onedrive\\desktop\\major-project-hari\\sentiment-analysis-ml-flask-app\\venv\\lib\\site-packages (from pandas) (2022.1)\n",
      "Requirement already satisfied: numpy>=1.21.0 in c:\\users\\lenovo\\onedrive\\desktop\\major-project-hari\\sentiment-analysis-ml-flask-app\\venv\\lib\\site-packages (from pandas) (1.22.3)\n",
      "Requirement already satisfied: python-dateutil>=2.8.1 in c:\\users\\lenovo\\onedrive\\desktop\\major-project-hari\\sentiment-analysis-ml-flask-app\\venv\\lib\\site-packages (from pandas) (2.8.2)\n",
      "Requirement already satisfied: six>=1.5 in c:\\users\\lenovo\\onedrive\\desktop\\major-project-hari\\sentiment-analysis-ml-flask-app\\venv\\lib\\site-packages (from python-dateutil>=2.8.1->pandas) (1.16.0)\n",
      "Requirement already satisfied: matplotlib in c:\\users\\lenovo\\onedrive\\desktop\\major-project-hari\\sentiment-analysis-ml-flask-app\\venv\\lib\\site-packages (3.5.1)\n",
      "Requirement already satisfied: python-dateutil>=2.7 in c:\\users\\lenovo\\onedrive\\desktop\\major-project-hari\\sentiment-analysis-ml-flask-app\\venv\\lib\\site-packages (from matplotlib) (2.8.2)\n",
      "Requirement already satisfied: packaging>=20.0 in c:\\users\\lenovo\\onedrive\\desktop\\major-project-hari\\sentiment-analysis-ml-flask-app\\venv\\lib\\site-packages (from matplotlib) (21.3)\n",
      "Requirement already satisfied: pyparsing>=2.2.1 in c:\\users\\lenovo\\onedrive\\desktop\\major-project-hari\\sentiment-analysis-ml-flask-app\\venv\\lib\\site-packages (from matplotlib) (3.0.8)\n",
      "Requirement already satisfied: pillow>=6.2.0 in c:\\users\\lenovo\\onedrive\\desktop\\major-project-hari\\sentiment-analysis-ml-flask-app\\venv\\lib\\site-packages (from matplotlib) (9.1.0)\n",
      "Requirement already satisfied: numpy>=1.17 in c:\\users\\lenovo\\onedrive\\desktop\\major-project-hari\\sentiment-analysis-ml-flask-app\\venv\\lib\\site-packages (from matplotlib) (1.22.3)\n",
      "Requirement already satisfied: fonttools>=4.22.0 in c:\\users\\lenovo\\onedrive\\desktop\\major-project-hari\\sentiment-analysis-ml-flask-app\\venv\\lib\\site-packages (from matplotlib) (4.33.2)\n",
      "Requirement already satisfied: cycler>=0.10 in c:\\users\\lenovo\\onedrive\\desktop\\major-project-hari\\sentiment-analysis-ml-flask-app\\venv\\lib\\site-packages (from matplotlib) (0.11.0)\n",
      "Requirement already satisfied: kiwisolver>=1.0.1 in c:\\users\\lenovo\\onedrive\\desktop\\major-project-hari\\sentiment-analysis-ml-flask-app\\venv\\lib\\site-packages (from matplotlib) (1.4.2)\n",
      "Requirement already satisfied: six>=1.5 in c:\\users\\lenovo\\onedrive\\desktop\\major-project-hari\\sentiment-analysis-ml-flask-app\\venv\\lib\\site-packages (from python-dateutil>=2.7->matplotlib) (1.16.0)\n",
      "Note: you may need to restart the kernel to use updated packages.\n",
      "Requirement already satisfied: seaborn in c:\\users\\lenovo\\onedrive\\desktop\\major-project-hari\\sentiment-analysis-ml-flask-app\\venv\\lib\\site-packages (0.11.2)\n",
      "Requirement already satisfied: numpy>=1.15 in c:\\users\\lenovo\\onedrive\\desktop\\major-project-hari\\sentiment-analysis-ml-flask-app\\venv\\lib\\site-packages (from seaborn) (1.22.3)\n",
      "Requirement already satisfied: pandas>=0.23 in c:\\users\\lenovo\\onedrive\\desktop\\major-project-hari\\sentiment-analysis-ml-flask-app\\venv\\lib\\site-packages (from seaborn) (1.4.2)\n",
      "Requirement already satisfied: matplotlib>=2.2 in c:\\users\\lenovo\\onedrive\\desktop\\major-project-hari\\sentiment-analysis-ml-flask-app\\venv\\lib\\site-packages (from seaborn) (3.5.1)\n",
      "Requirement already satisfied: scipy>=1.0 in c:\\users\\lenovo\\onedrive\\desktop\\major-project-hari\\sentiment-analysis-ml-flask-app\\venv\\lib\\site-packages (from seaborn) (1.8.0)\n",
      "Requirement already satisfied: packaging>=20.0 in c:\\users\\lenovo\\onedrive\\desktop\\major-project-hari\\sentiment-analysis-ml-flask-app\\venv\\lib\\site-packages (from matplotlib>=2.2->seaborn) (21.3)\n",
      "Requirement already satisfied: pyparsing>=2.2.1 in c:\\users\\lenovo\\onedrive\\desktop\\major-project-hari\\sentiment-analysis-ml-flask-app\\venv\\lib\\site-packages (from matplotlib>=2.2->seaborn) (3.0.8)\n",
      "Requirement already satisfied: pillow>=6.2.0 in c:\\users\\lenovo\\onedrive\\desktop\\major-project-hari\\sentiment-analysis-ml-flask-app\\venv\\lib\\site-packages (from matplotlib>=2.2->seaborn) (9.1.0)\n",
      "Requirement already satisfied: python-dateutil>=2.7 in c:\\users\\lenovo\\onedrive\\desktop\\major-project-hari\\sentiment-analysis-ml-flask-app\\venv\\lib\\site-packages (from matplotlib>=2.2->seaborn) (2.8.2)\n",
      "Requirement already satisfied: fonttools>=4.22.0 in c:\\users\\lenovo\\onedrive\\desktop\\major-project-hari\\sentiment-analysis-ml-flask-app\\venv\\lib\\site-packages (from matplotlib>=2.2->seaborn) (4.33.2)\n",
      "Requirement already satisfied: kiwisolver>=1.0.1 in c:\\users\\lenovo\\onedrive\\desktop\\major-project-hari\\sentiment-analysis-ml-flask-app\\venv\\lib\\site-packages (from matplotlib>=2.2->seaborn) (1.4.2)\n",
      "Requirement already satisfied: cycler>=0.10 in c:\\users\\lenovo\\onedrive\\desktop\\major-project-hari\\sentiment-analysis-ml-flask-app\\venv\\lib\\site-packages (from matplotlib>=2.2->seaborn) (0.11.0)\n",
      "Requirement already satisfied: pytz>=2020.1 in c:\\users\\lenovo\\onedrive\\desktop\\major-project-hari\\sentiment-analysis-ml-flask-app\\venv\\lib\\site-packages (from pandas>=0.23->seaborn) (2022.1)\n",
      "Requirement already satisfied: six>=1.5 in c:\\users\\lenovo\\onedrive\\desktop\\major-project-hari\\sentiment-analysis-ml-flask-app\\venv\\lib\\site-packages (from python-dateutil>=2.7->matplotlib>=2.2->seaborn) (1.16.0)\n",
      "Note: you may need to restart the kernel to use updated packages.\n",
      "Requirement already satisfied: sklearn in c:\\users\\lenovo\\onedrive\\desktop\\major-project-hari\\sentiment-analysis-ml-flask-app\\venv\\lib\\site-packages (0.0)\n",
      "Requirement already satisfied: scikit-learn in c:\\users\\lenovo\\onedrive\\desktop\\major-project-hari\\sentiment-analysis-ml-flask-app\\venv\\lib\\site-packages (from sklearn) (1.0.2)\n",
      "Requirement already satisfied: joblib>=0.11 in c:\\users\\lenovo\\onedrive\\desktop\\major-project-hari\\sentiment-analysis-ml-flask-app\\venv\\lib\\site-packages (from scikit-learn->sklearn) (1.1.0)\n",
      "Requirement already satisfied: threadpoolctl>=2.0.0 in c:\\users\\lenovo\\onedrive\\desktop\\major-project-hari\\sentiment-analysis-ml-flask-app\\venv\\lib\\site-packages (from scikit-learn->sklearn) (3.1.0)\n",
      "Requirement already satisfied: scipy>=1.1.0 in c:\\users\\lenovo\\onedrive\\desktop\\major-project-hari\\sentiment-analysis-ml-flask-app\\venv\\lib\\site-packages (from scikit-learn->sklearn) (1.8.0)\n",
      "Requirement already satisfied: numpy>=1.14.6 in c:\\users\\lenovo\\onedrive\\desktop\\major-project-hari\\sentiment-analysis-ml-flask-app\\venv\\lib\\site-packages (from scikit-learn->sklearn) (1.22.3)\n",
      "Note: you may need to restart the kernel to use updated packages.\n"
     ]
    }
   ],
   "source": [
    "%pip install pandas\n",
    "%pip install numpy\n",
    "\n",
    "%pip install pandas\n",
    "\n",
    "%pip install matplotlib\n",
    "%pip install seaborn\n",
    "%pip install sklearn"
   ]
  },
  {
   "cell_type": "code",
   "execution_count": 7,
   "id": "36ebb148",
   "metadata": {
    "_cell_guid": "b1076dfc-b9ad-4769-8c92-a6c4dae69d19",
    "_uuid": "8f2839f25d086af736a60e9eeb907d3b93b6e0e5",
    "execution": {
     "iopub.execute_input": "2022-04-15T14:08:12.512809Z",
     "iopub.status.busy": "2022-04-15T14:08:12.512048Z",
     "iopub.status.idle": "2022-04-15T14:08:13.629491Z",
     "shell.execute_reply": "2022-04-15T14:08:13.628596Z"
    },
    "papermill": {
     "duration": 1.157694,
     "end_time": "2022-04-15T14:08:13.631907",
     "exception": false,
     "start_time": "2022-04-15T14:08:12.474213",
     "status": "completed"
    },
    "tags": []
   },
   "outputs": [],
   "source": [
    "import pandas as pd\n",
    "import matplotlib.pyplot as plt\n",
    "import numpy as np\n",
    "import seaborn as sns\n",
    "import math\n",
    "import warnings\n",
    "warnings.filterwarnings('ignore') # Hides warning\n",
    "warnings.filterwarnings(\"ignore\", category=DeprecationWarning)\n",
    "warnings.filterwarnings(\"ignore\",category=UserWarning)\n",
    "sns.set_style(\"whitegrid\") # Plotting style\n",
    "%matplotlib inline \n",
    "np.random.seed(7) # seeding random number generato"
   ]
  },
  {
   "cell_type": "code",
   "execution_count": 8,
   "id": "12132fc5",
   "metadata": {
    "execution": {
     "iopub.execute_input": "2022-04-15T14:08:13.717783Z",
     "iopub.status.busy": "2022-04-15T14:08:13.716869Z",
     "iopub.status.idle": "2022-04-15T14:08:14.797616Z",
     "shell.execute_reply": "2022-04-15T14:08:14.796680Z"
    },
    "papermill": {
     "duration": 1.123429,
     "end_time": "2022-04-15T14:08:14.800093",
     "exception": false,
     "start_time": "2022-04-15T14:08:13.676664",
     "status": "completed"
    },
    "tags": []
   },
   "outputs": [
    {
     "data": {
      "text/html": [
       "<div>\n",
       "<style scoped>\n",
       "    .dataframe tbody tr th:only-of-type {\n",
       "        vertical-align: middle;\n",
       "    }\n",
       "\n",
       "    .dataframe tbody tr th {\n",
       "        vertical-align: top;\n",
       "    }\n",
       "\n",
       "    .dataframe thead th {\n",
       "        text-align: right;\n",
       "    }\n",
       "</style>\n",
       "<table border=\"1\" class=\"dataframe\">\n",
       "  <thead>\n",
       "    <tr style=\"text-align: right;\">\n",
       "      <th></th>\n",
       "      <th>id</th>\n",
       "      <th>name</th>\n",
       "      <th>asins</th>\n",
       "      <th>brand</th>\n",
       "      <th>categories</th>\n",
       "      <th>keys</th>\n",
       "      <th>manufacturer</th>\n",
       "      <th>reviews.date</th>\n",
       "      <th>reviews.dateAdded</th>\n",
       "      <th>reviews.dateSeen</th>\n",
       "      <th>...</th>\n",
       "      <th>reviews.doRecommend</th>\n",
       "      <th>reviews.id</th>\n",
       "      <th>reviews.numHelpful</th>\n",
       "      <th>reviews.rating</th>\n",
       "      <th>reviews.sourceURLs</th>\n",
       "      <th>reviews.text</th>\n",
       "      <th>reviews.title</th>\n",
       "      <th>reviews.userCity</th>\n",
       "      <th>reviews.userProvince</th>\n",
       "      <th>reviews.username</th>\n",
       "    </tr>\n",
       "  </thead>\n",
       "  <tbody>\n",
       "    <tr>\n",
       "      <th>0</th>\n",
       "      <td>AVqkIhwDv8e3D1O-lebb</td>\n",
       "      <td>All-New Fire HD 8 Tablet, 8 HD Display, Wi-Fi,...</td>\n",
       "      <td>B01AHB9CN2</td>\n",
       "      <td>Amazon</td>\n",
       "      <td>Electronics,iPad &amp; Tablets,All Tablets,Fire Ta...</td>\n",
       "      <td>841667104676,amazon/53004484,amazon/b01ahb9cn2...</td>\n",
       "      <td>Amazon</td>\n",
       "      <td>2017-01-13T00:00:00.000Z</td>\n",
       "      <td>2017-07-03T23:33:15Z</td>\n",
       "      <td>2017-06-07T09:04:00.000Z,2017-04-30T00:45:00.000Z</td>\n",
       "      <td>...</td>\n",
       "      <td>True</td>\n",
       "      <td>NaN</td>\n",
       "      <td>0.0</td>\n",
       "      <td>5.0</td>\n",
       "      <td>http://reviews.bestbuy.com/3545/5620406/review...</td>\n",
       "      <td>This product so far has not disappointed. My c...</td>\n",
       "      <td>Kindle</td>\n",
       "      <td>NaN</td>\n",
       "      <td>NaN</td>\n",
       "      <td>Adapter</td>\n",
       "    </tr>\n",
       "    <tr>\n",
       "      <th>1</th>\n",
       "      <td>AVqkIhwDv8e3D1O-lebb</td>\n",
       "      <td>All-New Fire HD 8 Tablet, 8 HD Display, Wi-Fi,...</td>\n",
       "      <td>B01AHB9CN2</td>\n",
       "      <td>Amazon</td>\n",
       "      <td>Electronics,iPad &amp; Tablets,All Tablets,Fire Ta...</td>\n",
       "      <td>841667104676,amazon/53004484,amazon/b01ahb9cn2...</td>\n",
       "      <td>Amazon</td>\n",
       "      <td>2017-01-13T00:00:00.000Z</td>\n",
       "      <td>2017-07-03T23:33:15Z</td>\n",
       "      <td>2017-06-07T09:04:00.000Z,2017-04-30T00:45:00.000Z</td>\n",
       "      <td>...</td>\n",
       "      <td>True</td>\n",
       "      <td>NaN</td>\n",
       "      <td>0.0</td>\n",
       "      <td>5.0</td>\n",
       "      <td>http://reviews.bestbuy.com/3545/5620406/review...</td>\n",
       "      <td>great for beginner or experienced person. Boug...</td>\n",
       "      <td>very fast</td>\n",
       "      <td>NaN</td>\n",
       "      <td>NaN</td>\n",
       "      <td>truman</td>\n",
       "    </tr>\n",
       "  </tbody>\n",
       "</table>\n",
       "<p>2 rows × 21 columns</p>\n",
       "</div>"
      ],
      "text/plain": [
       "                     id                                               name  \\\n",
       "0  AVqkIhwDv8e3D1O-lebb  All-New Fire HD 8 Tablet, 8 HD Display, Wi-Fi,...   \n",
       "1  AVqkIhwDv8e3D1O-lebb  All-New Fire HD 8 Tablet, 8 HD Display, Wi-Fi,...   \n",
       "\n",
       "        asins   brand                                         categories  \\\n",
       "0  B01AHB9CN2  Amazon  Electronics,iPad & Tablets,All Tablets,Fire Ta...   \n",
       "1  B01AHB9CN2  Amazon  Electronics,iPad & Tablets,All Tablets,Fire Ta...   \n",
       "\n",
       "                                                keys manufacturer  \\\n",
       "0  841667104676,amazon/53004484,amazon/b01ahb9cn2...       Amazon   \n",
       "1  841667104676,amazon/53004484,amazon/b01ahb9cn2...       Amazon   \n",
       "\n",
       "               reviews.date     reviews.dateAdded  \\\n",
       "0  2017-01-13T00:00:00.000Z  2017-07-03T23:33:15Z   \n",
       "1  2017-01-13T00:00:00.000Z  2017-07-03T23:33:15Z   \n",
       "\n",
       "                                    reviews.dateSeen  ... reviews.doRecommend  \\\n",
       "0  2017-06-07T09:04:00.000Z,2017-04-30T00:45:00.000Z  ...                True   \n",
       "1  2017-06-07T09:04:00.000Z,2017-04-30T00:45:00.000Z  ...                True   \n",
       "\n",
       "  reviews.id  reviews.numHelpful  reviews.rating  \\\n",
       "0        NaN                 0.0             5.0   \n",
       "1        NaN                 0.0             5.0   \n",
       "\n",
       "                                  reviews.sourceURLs  \\\n",
       "0  http://reviews.bestbuy.com/3545/5620406/review...   \n",
       "1  http://reviews.bestbuy.com/3545/5620406/review...   \n",
       "\n",
       "                                        reviews.text reviews.title  \\\n",
       "0  This product so far has not disappointed. My c...        Kindle   \n",
       "1  great for beginner or experienced person. Boug...     very fast   \n",
       "\n",
       "  reviews.userCity  reviews.userProvince  reviews.username  \n",
       "0              NaN                   NaN           Adapter  \n",
       "1              NaN                   NaN            truman  \n",
       "\n",
       "[2 rows x 21 columns]"
      ]
     },
     "execution_count": 8,
     "metadata": {},
     "output_type": "execute_result"
    }
   ],
   "source": [
    "csv =\"dataset/1429_1.csv\"\n",
    "df = pd.read_csv(csv)\n",
    "df.head(2)"
   ]
  },
  {
   "cell_type": "code",
   "execution_count": 9,
   "id": "0f165833",
   "metadata": {
    "execution": {
     "iopub.execute_input": "2022-04-15T14:08:14.874425Z",
     "iopub.status.busy": "2022-04-15T14:08:14.873442Z",
     "iopub.status.idle": "2022-04-15T14:08:14.924183Z",
     "shell.execute_reply": "2022-04-15T14:08:14.923335Z"
    },
    "papermill": {
     "duration": 0.089997,
     "end_time": "2022-04-15T14:08:14.926266",
     "exception": false,
     "start_time": "2022-04-15T14:08:14.836269",
     "status": "completed"
    },
    "tags": []
   },
   "outputs": [
    {
     "data": {
      "text/html": [
       "<div>\n",
       "<style scoped>\n",
       "    .dataframe tbody tr th:only-of-type {\n",
       "        vertical-align: middle;\n",
       "    }\n",
       "\n",
       "    .dataframe tbody tr th {\n",
       "        vertical-align: top;\n",
       "    }\n",
       "\n",
       "    .dataframe thead th {\n",
       "        text-align: right;\n",
       "    }\n",
       "</style>\n",
       "<table border=\"1\" class=\"dataframe\">\n",
       "  <thead>\n",
       "    <tr style=\"text-align: right;\">\n",
       "      <th></th>\n",
       "      <th>reviews.id</th>\n",
       "      <th>reviews.numHelpful</th>\n",
       "      <th>reviews.rating</th>\n",
       "      <th>reviews.userCity</th>\n",
       "      <th>reviews.userProvince</th>\n",
       "    </tr>\n",
       "  </thead>\n",
       "  <tbody>\n",
       "    <tr>\n",
       "      <th>count</th>\n",
       "      <td>1.0</td>\n",
       "      <td>34131.000000</td>\n",
       "      <td>34627.000000</td>\n",
       "      <td>0.0</td>\n",
       "      <td>0.0</td>\n",
       "    </tr>\n",
       "    <tr>\n",
       "      <th>mean</th>\n",
       "      <td>111372787.0</td>\n",
       "      <td>0.630248</td>\n",
       "      <td>4.584573</td>\n",
       "      <td>NaN</td>\n",
       "      <td>NaN</td>\n",
       "    </tr>\n",
       "    <tr>\n",
       "      <th>std</th>\n",
       "      <td>NaN</td>\n",
       "      <td>13.215775</td>\n",
       "      <td>0.735653</td>\n",
       "      <td>NaN</td>\n",
       "      <td>NaN</td>\n",
       "    </tr>\n",
       "    <tr>\n",
       "      <th>min</th>\n",
       "      <td>111372787.0</td>\n",
       "      <td>0.000000</td>\n",
       "      <td>1.000000</td>\n",
       "      <td>NaN</td>\n",
       "      <td>NaN</td>\n",
       "    </tr>\n",
       "    <tr>\n",
       "      <th>25%</th>\n",
       "      <td>111372787.0</td>\n",
       "      <td>0.000000</td>\n",
       "      <td>4.000000</td>\n",
       "      <td>NaN</td>\n",
       "      <td>NaN</td>\n",
       "    </tr>\n",
       "    <tr>\n",
       "      <th>50%</th>\n",
       "      <td>111372787.0</td>\n",
       "      <td>0.000000</td>\n",
       "      <td>5.000000</td>\n",
       "      <td>NaN</td>\n",
       "      <td>NaN</td>\n",
       "    </tr>\n",
       "    <tr>\n",
       "      <th>75%</th>\n",
       "      <td>111372787.0</td>\n",
       "      <td>0.000000</td>\n",
       "      <td>5.000000</td>\n",
       "      <td>NaN</td>\n",
       "      <td>NaN</td>\n",
       "    </tr>\n",
       "    <tr>\n",
       "      <th>max</th>\n",
       "      <td>111372787.0</td>\n",
       "      <td>814.000000</td>\n",
       "      <td>5.000000</td>\n",
       "      <td>NaN</td>\n",
       "      <td>NaN</td>\n",
       "    </tr>\n",
       "  </tbody>\n",
       "</table>\n",
       "</div>"
      ],
      "text/plain": [
       "        reviews.id  reviews.numHelpful  reviews.rating  reviews.userCity  \\\n",
       "count          1.0        34131.000000    34627.000000               0.0   \n",
       "mean   111372787.0            0.630248        4.584573               NaN   \n",
       "std            NaN           13.215775        0.735653               NaN   \n",
       "min    111372787.0            0.000000        1.000000               NaN   \n",
       "25%    111372787.0            0.000000        4.000000               NaN   \n",
       "50%    111372787.0            0.000000        5.000000               NaN   \n",
       "75%    111372787.0            0.000000        5.000000               NaN   \n",
       "max    111372787.0          814.000000        5.000000               NaN   \n",
       "\n",
       "       reviews.userProvince  \n",
       "count                   0.0  \n",
       "mean                    NaN  \n",
       "std                     NaN  \n",
       "min                     NaN  \n",
       "25%                     NaN  \n",
       "50%                     NaN  \n",
       "75%                     NaN  \n",
       "max                     NaN  "
      ]
     },
     "execution_count": 9,
     "metadata": {},
     "output_type": "execute_result"
    }
   ],
   "source": [
    "data = df.copy()\n",
    "data.describe()"
   ]
  },
  {
   "cell_type": "code",
   "execution_count": 10,
   "id": "58550747",
   "metadata": {
    "execution": {
     "iopub.execute_input": "2022-04-15T14:08:15.000362Z",
     "iopub.status.busy": "2022-04-15T14:08:15.000067Z",
     "iopub.status.idle": "2022-04-15T14:08:15.044209Z",
     "shell.execute_reply": "2022-04-15T14:08:15.043197Z"
    },
    "papermill": {
     "duration": 0.086456,
     "end_time": "2022-04-15T14:08:15.049141",
     "exception": false,
     "start_time": "2022-04-15T14:08:14.962685",
     "status": "completed"
    },
    "tags": []
   },
   "outputs": [
    {
     "name": "stdout",
     "output_type": "stream",
     "text": [
      "<class 'pandas.core.frame.DataFrame'>\n",
      "RangeIndex: 34660 entries, 0 to 34659\n",
      "Data columns (total 21 columns):\n",
      " #   Column                Non-Null Count  Dtype  \n",
      "---  ------                --------------  -----  \n",
      " 0   id                    34660 non-null  object \n",
      " 1   name                  27900 non-null  object \n",
      " 2   asins                 34658 non-null  object \n",
      " 3   brand                 34660 non-null  object \n",
      " 4   categories            34660 non-null  object \n",
      " 5   keys                  34660 non-null  object \n",
      " 6   manufacturer          34660 non-null  object \n",
      " 7   reviews.date          34621 non-null  object \n",
      " 8   reviews.dateAdded     24039 non-null  object \n",
      " 9   reviews.dateSeen      34660 non-null  object \n",
      " 10  reviews.didPurchase   1 non-null      object \n",
      " 11  reviews.doRecommend   34066 non-null  object \n",
      " 12  reviews.id            1 non-null      float64\n",
      " 13  reviews.numHelpful    34131 non-null  float64\n",
      " 14  reviews.rating        34627 non-null  float64\n",
      " 15  reviews.sourceURLs    34660 non-null  object \n",
      " 16  reviews.text          34659 non-null  object \n",
      " 17  reviews.title         34655 non-null  object \n",
      " 18  reviews.userCity      0 non-null      float64\n",
      " 19  reviews.userProvince  0 non-null      float64\n",
      " 20  reviews.username      34658 non-null  object \n",
      "dtypes: float64(5), object(16)\n",
      "memory usage: 5.6+ MB\n"
     ]
    }
   ],
   "source": [
    "data.info()"
   ]
  },
  {
   "cell_type": "code",
   "execution_count": 11,
   "id": "ed278aa8",
   "metadata": {
    "execution": {
     "iopub.execute_input": "2022-04-15T14:08:15.125931Z",
     "iopub.status.busy": "2022-04-15T14:08:15.125109Z",
     "iopub.status.idle": "2022-04-15T14:08:15.133184Z",
     "shell.execute_reply": "2022-04-15T14:08:15.132320Z"
    },
    "papermill": {
     "duration": 0.048046,
     "end_time": "2022-04-15T14:08:15.135125",
     "exception": false,
     "start_time": "2022-04-15T14:08:15.087079",
     "status": "completed"
    },
    "tags": []
   },
   "outputs": [
    {
     "data": {
      "text/plain": [
       "array(['B01AHB9CN2', 'B00VINDBJK', 'B005PB2T0S', 'B002Y27P3M',\n",
       "       'B01AHB9CYG', 'B01AHB9C1E', 'B01J2G4VBG', 'B00ZV9PXP2',\n",
       "       'B0083Q04TA', 'B018Y229OU', 'B00REQKWGA', 'B00IOYAM4I',\n",
       "       'B018T075DC', nan, 'B00DU15MU4', 'B018Y225IA', 'B005PB2T2Q',\n",
       "       'B018Y23MNM', 'B00OQVZDJM', 'B00IOY8XWQ', 'B00LO29KXQ',\n",
       "       'B00QJDU3KY', 'B018Y22C2Y', 'B01BFIBRIE', 'B01J4ORNHU',\n",
       "       'B018SZT3BK', 'B00UH4D8G2', 'B018Y22BI4', 'B00TSUGXKE',\n",
       "       'B00L9EPT8O,B01E6AO69U', 'B018Y23P7K', 'B00X4WHP5E', 'B00QFQRELG',\n",
       "       'B00LW9XOJM', 'B00QL1ZN3G', 'B0189XYY0Q', 'B01BH83OOM',\n",
       "       'B00BFJAHF8', 'B00U3FPN4U', 'B002Y27P6Y', 'B006GWO5NE',\n",
       "       'B006GWO5WK'], dtype=object)"
      ]
     },
     "execution_count": 11,
     "metadata": {},
     "output_type": "execute_result"
    }
   ],
   "source": [
    "data[\"asins\"].unique()"
   ]
  },
  {
   "cell_type": "code",
   "execution_count": 12,
   "id": "97e6d69a",
   "metadata": {
    "execution": {
     "iopub.execute_input": "2022-04-15T14:08:15.210974Z",
     "iopub.status.busy": "2022-04-15T14:08:15.210716Z",
     "iopub.status.idle": "2022-04-15T14:08:15.217388Z",
     "shell.execute_reply": "2022-04-15T14:08:15.216577Z"
    },
    "papermill": {
     "duration": 0.04721,
     "end_time": "2022-04-15T14:08:15.219538",
     "exception": false,
     "start_time": "2022-04-15T14:08:15.172328",
     "status": "completed"
    },
    "tags": []
   },
   "outputs": [
    {
     "name": "stdout",
     "output_type": "stream",
     "text": [
      "Number of Unique ASINs: 42\n"
     ]
    }
   ],
   "source": [
    "asins_unique = len(data[\"asins\"].unique())\n",
    "print(\"Number of Unique ASINs: \" + str(asins_unique))"
   ]
  },
  {
   "cell_type": "code",
   "execution_count": 13,
   "id": "d83219dd",
   "metadata": {
    "execution": {
     "iopub.execute_input": "2022-04-15T14:08:15.296502Z",
     "iopub.status.busy": "2022-04-15T14:08:15.295931Z",
     "iopub.status.idle": "2022-04-15T14:08:16.517390Z",
     "shell.execute_reply": "2022-04-15T14:08:16.516446Z"
    },
    "papermill": {
     "duration": 1.262461,
     "end_time": "2022-04-15T14:08:16.519577",
     "exception": false,
     "start_time": "2022-04-15T14:08:15.257116",
     "status": "completed"
    },
    "tags": []
   },
   "outputs": [
    {
     "data": {
      "image/png": "[encoded data removed]",
      "text/plain": [
       "<Figure size 1440x1080 with 6 Axes>"
      ]
     },
     "metadata": {
      "needs_background": "light"
     },
     "output_type": "display_data"
    }
   ],
   "source": [
    "# Builds histogram and set the number of bins and fig size (width, height)\n",
    "data.hist(bins=50, figsize=(20,15))\n",
    "plt.show()"
   ]
  },
  {
   "cell_type": "markdown",
   "id": "953a0a53",
   "metadata": {
    "papermill": {
     "duration": 0.038812,
     "end_time": "2022-04-15T14:08:16.597612",
     "exception": false,
     "start_time": "2022-04-15T14:08:16.558800",
     "status": "completed"
    },
    "tags": []
   },
   "source": [
    "# Distribution of rating\n"
   ]
  },
  {
   "cell_type": "code",
   "execution_count": 14,
   "id": "930965f2",
   "metadata": {
    "execution": {
     "iopub.execute_input": "2022-04-15T14:08:16.677660Z",
     "iopub.status.busy": "2022-04-15T14:08:16.677362Z",
     "iopub.status.idle": "2022-04-15T14:08:16.824907Z",
     "shell.execute_reply": "2022-04-15T14:08:16.824197Z"
    },
    "papermill": {
     "duration": 0.189828,
     "end_time": "2022-04-15T14:08:16.826826",
     "exception": false,
     "start_time": "2022-04-15T14:08:16.636998",
     "status": "completed"
    },
    "tags": []
   },
   "outputs": [
    {
     "data": {
      "text/plain": [
       "Text(0.5, 0, 'Rating Count')"
      ]
     },
     "execution_count": 14,
     "metadata": {},
     "output_type": "execute_result"
    },
    {
     "data": {
      "image/png": "[encoded data removed]",
      "text/plain": [
       "<Figure size 432x288 with 1 Axes>"
      ]
     },
     "metadata": {
      "needs_background": "light"
     },
     "output_type": "display_data"
    }
   ],
   "source": [
    "# distribution of rating\n",
    "import matplotlib.pyplot as plt\n",
    "import seaborn as sns\n",
    "\n",
    "sns.countplot(data['reviews.rating'])\n",
    "plt.xlabel('Rating Count')"
   ]
  },
  {
   "cell_type": "code",
   "execution_count": 15,
   "id": "bc9ef841",
   "metadata": {
    "execution": {
     "iopub.execute_input": "2022-04-15T14:08:16.909950Z",
     "iopub.status.busy": "2022-04-15T14:08:16.909034Z",
     "iopub.status.idle": "2022-04-15T14:08:17.188175Z",
     "shell.execute_reply": "2022-04-15T14:08:17.187498Z"
    },
    "papermill": {
     "duration": 0.322671,
     "end_time": "2022-04-15T14:08:17.190193",
     "exception": false,
     "start_time": "2022-04-15T14:08:16.867522",
     "status": "completed"
    },
    "tags": []
   },
   "outputs": [
    {
     "data": {
      "text/plain": [
       "Text(0.5, 0, 'Class Count')"
      ]
     },
     "execution_count": 15,
     "metadata": {},
     "output_type": "execute_result"
    },
    {
     "data": {
      "image/png": "[encoded data removed]",
      "text/plain": [
       "<Figure size 432x288 with 1 Axes>"
      ]
     },
     "metadata": {
      "needs_background": "light"
     },
     "output_type": "display_data"
    }
   ],
   "source": [
    "def to_sentiment(rating):\n",
    "    \"\"\" Convert rating into sentiment\"\"\"\n",
    "    if rating == 5:\n",
    "        sentiment = 'positive'\n",
    "    elif rating == 4:\n",
    "        sentiment = 'neutral'\n",
    "    else:\n",
    "        sentiment = 'negative'\n",
    "    return sentiment\n",
    "df['sentiment_analysis'] = df['reviews.rating'].apply(to_sentiment)\n",
    "(df.sentiment_analysis.value_counts() *100 / len(df), 2)\n",
    "sns.countplot(df.sentiment_analysis)\n",
    "plt.xlabel('Class Count')"
   ]
  },
  {
   "cell_type": "markdown",
   "id": "39268b68",
   "metadata": {
    "papermill": {
     "duration": 0.041086,
     "end_time": "2022-04-15T14:08:17.273047",
     "exception": false,
     "start_time": "2022-04-15T14:08:17.231961",
     "status": "completed"
    },
    "tags": []
   },
   "source": [
    "# Distribution of sentiment\n"
   ]
  },
  {
   "cell_type": "code",
   "execution_count": 16,
   "id": "95b356db",
   "metadata": {
    "execution": {
     "iopub.execute_input": "2022-04-15T14:08:17.357455Z",
     "iopub.status.busy": "2022-04-15T14:08:17.356713Z",
     "iopub.status.idle": "2022-04-15T14:08:17.386507Z",
     "shell.execute_reply": "2022-04-15T14:08:17.385677Z"
    },
    "papermill": {
     "duration": 0.074431,
     "end_time": "2022-04-15T14:08:17.388606",
     "exception": false,
     "start_time": "2022-04-15T14:08:17.314175",
     "status": "completed"
    },
    "tags": []
   },
   "outputs": [
    {
     "data": {
      "text/html": [
       "<div>\n",
       "<style scoped>\n",
       "    .dataframe tbody tr th:only-of-type {\n",
       "        vertical-align: middle;\n",
       "    }\n",
       "\n",
       "    .dataframe tbody tr th {\n",
       "        vertical-align: top;\n",
       "    }\n",
       "\n",
       "    .dataframe thead th {\n",
       "        text-align: right;\n",
       "    }\n",
       "</style>\n",
       "<table border=\"1\" class=\"dataframe\">\n",
       "  <thead>\n",
       "    <tr style=\"text-align: right;\">\n",
       "      <th></th>\n",
       "      <th>id</th>\n",
       "      <th>name</th>\n",
       "      <th>asins</th>\n",
       "      <th>brand</th>\n",
       "      <th>categories</th>\n",
       "      <th>keys</th>\n",
       "      <th>manufacturer</th>\n",
       "      <th>reviews.date</th>\n",
       "      <th>reviews.dateAdded</th>\n",
       "      <th>reviews.dateSeen</th>\n",
       "      <th>...</th>\n",
       "      <th>reviews.numHelpful</th>\n",
       "      <th>reviews.rating</th>\n",
       "      <th>reviews.sourceURLs</th>\n",
       "      <th>reviews.text</th>\n",
       "      <th>reviews.title</th>\n",
       "      <th>reviews.userCity</th>\n",
       "      <th>reviews.userProvince</th>\n",
       "      <th>reviews.username</th>\n",
       "      <th>sentiment_score</th>\n",
       "      <th>sentiment</th>\n",
       "    </tr>\n",
       "  </thead>\n",
       "  <tbody>\n",
       "    <tr>\n",
       "      <th>0</th>\n",
       "      <td>AVqkIhwDv8e3D1O-lebb</td>\n",
       "      <td>All-New Fire HD 8 Tablet, 8 HD Display, Wi-Fi,...</td>\n",
       "      <td>B01AHB9CN2</td>\n",
       "      <td>Amazon</td>\n",
       "      <td>Electronics,iPad &amp; Tablets,All Tablets,Fire Ta...</td>\n",
       "      <td>841667104676,amazon/53004484,amazon/b01ahb9cn2...</td>\n",
       "      <td>Amazon</td>\n",
       "      <td>2017-01-13T00:00:00.000Z</td>\n",
       "      <td>2017-07-03T23:33:15Z</td>\n",
       "      <td>2017-06-07T09:04:00.000Z,2017-04-30T00:45:00.000Z</td>\n",
       "      <td>...</td>\n",
       "      <td>0.0</td>\n",
       "      <td>5.0</td>\n",
       "      <td>http://reviews.bestbuy.com/3545/5620406/review...</td>\n",
       "      <td>This product so far has not disappointed. My c...</td>\n",
       "      <td>Kindle</td>\n",
       "      <td>NaN</td>\n",
       "      <td>NaN</td>\n",
       "      <td>Adapter</td>\n",
       "      <td>1.0</td>\n",
       "      <td>POSITIVE</td>\n",
       "    </tr>\n",
       "    <tr>\n",
       "      <th>1</th>\n",
       "      <td>AVqkIhwDv8e3D1O-lebb</td>\n",
       "      <td>All-New Fire HD 8 Tablet, 8 HD Display, Wi-Fi,...</td>\n",
       "      <td>B01AHB9CN2</td>\n",
       "      <td>Amazon</td>\n",
       "      <td>Electronics,iPad &amp; Tablets,All Tablets,Fire Ta...</td>\n",
       "      <td>841667104676,amazon/53004484,amazon/b01ahb9cn2...</td>\n",
       "      <td>Amazon</td>\n",
       "      <td>2017-01-13T00:00:00.000Z</td>\n",
       "      <td>2017-07-03T23:33:15Z</td>\n",
       "      <td>2017-06-07T09:04:00.000Z,2017-04-30T00:45:00.000Z</td>\n",
       "      <td>...</td>\n",
       "      <td>0.0</td>\n",
       "      <td>5.0</td>\n",
       "      <td>http://reviews.bestbuy.com/3545/5620406/review...</td>\n",
       "      <td>great for beginner or experienced person. Boug...</td>\n",
       "      <td>very fast</td>\n",
       "      <td>NaN</td>\n",
       "      <td>NaN</td>\n",
       "      <td>truman</td>\n",
       "      <td>1.0</td>\n",
       "      <td>POSITIVE</td>\n",
       "    </tr>\n",
       "    <tr>\n",
       "      <th>2</th>\n",
       "      <td>AVqkIhwDv8e3D1O-lebb</td>\n",
       "      <td>All-New Fire HD 8 Tablet, 8 HD Display, Wi-Fi,...</td>\n",
       "      <td>B01AHB9CN2</td>\n",
       "      <td>Amazon</td>\n",
       "      <td>Electronics,iPad &amp; Tablets,All Tablets,Fire Ta...</td>\n",
       "      <td>841667104676,amazon/53004484,amazon/b01ahb9cn2...</td>\n",
       "      <td>Amazon</td>\n",
       "      <td>2017-01-13T00:00:00.000Z</td>\n",
       "      <td>2017-07-03T23:33:15Z</td>\n",
       "      <td>2017-06-07T09:04:00.000Z,2017-04-30T00:45:00.000Z</td>\n",
       "      <td>...</td>\n",
       "      <td>0.0</td>\n",
       "      <td>5.0</td>\n",
       "      <td>http://reviews.bestbuy.com/3545/5620406/review...</td>\n",
       "      <td>Inexpensive tablet for him to use and learn on...</td>\n",
       "      <td>Beginner tablet for our 9 year old son.</td>\n",
       "      <td>NaN</td>\n",
       "      <td>NaN</td>\n",
       "      <td>DaveZ</td>\n",
       "      <td>1.0</td>\n",
       "      <td>POSITIVE</td>\n",
       "    </tr>\n",
       "    <tr>\n",
       "      <th>3</th>\n",
       "      <td>AVqkIhwDv8e3D1O-lebb</td>\n",
       "      <td>All-New Fire HD 8 Tablet, 8 HD Display, Wi-Fi,...</td>\n",
       "      <td>B01AHB9CN2</td>\n",
       "      <td>Amazon</td>\n",
       "      <td>Electronics,iPad &amp; Tablets,All Tablets,Fire Ta...</td>\n",
       "      <td>841667104676,amazon/53004484,amazon/b01ahb9cn2...</td>\n",
       "      <td>Amazon</td>\n",
       "      <td>2017-01-13T00:00:00.000Z</td>\n",
       "      <td>2017-07-03T23:33:15Z</td>\n",
       "      <td>2017-06-07T09:04:00.000Z,2017-04-30T00:45:00.000Z</td>\n",
       "      <td>...</td>\n",
       "      <td>0.0</td>\n",
       "      <td>4.0</td>\n",
       "      <td>http://reviews.bestbuy.com/3545/5620406/review...</td>\n",
       "      <td>I've had my Fire HD 8 two weeks now and I love...</td>\n",
       "      <td>Good!!!</td>\n",
       "      <td>NaN</td>\n",
       "      <td>NaN</td>\n",
       "      <td>Shacks</td>\n",
       "      <td>1.0</td>\n",
       "      <td>POSITIVE</td>\n",
       "    </tr>\n",
       "    <tr>\n",
       "      <th>4</th>\n",
       "      <td>AVqkIhwDv8e3D1O-lebb</td>\n",
       "      <td>All-New Fire HD 8 Tablet, 8 HD Display, Wi-Fi,...</td>\n",
       "      <td>B01AHB9CN2</td>\n",
       "      <td>Amazon</td>\n",
       "      <td>Electronics,iPad &amp; Tablets,All Tablets,Fire Ta...</td>\n",
       "      <td>841667104676,amazon/53004484,amazon/b01ahb9cn2...</td>\n",
       "      <td>Amazon</td>\n",
       "      <td>2017-01-12T00:00:00.000Z</td>\n",
       "      <td>2017-07-03T23:33:15Z</td>\n",
       "      <td>2017-06-07T09:04:00.000Z,2017-04-30T00:45:00.000Z</td>\n",
       "      <td>...</td>\n",
       "      <td>0.0</td>\n",
       "      <td>5.0</td>\n",
       "      <td>http://reviews.bestbuy.com/3545/5620406/review...</td>\n",
       "      <td>I bought this for my grand daughter when she c...</td>\n",
       "      <td>Fantastic Tablet for kids</td>\n",
       "      <td>NaN</td>\n",
       "      <td>NaN</td>\n",
       "      <td>explore42</td>\n",
       "      <td>1.0</td>\n",
       "      <td>POSITIVE</td>\n",
       "    </tr>\n",
       "  </tbody>\n",
       "</table>\n",
       "<p>5 rows × 23 columns</p>\n",
       "</div>"
      ],
      "text/plain": [
       "                     id                                               name  \\\n",
       "0  AVqkIhwDv8e3D1O-lebb  All-New Fire HD 8 Tablet, 8 HD Display, Wi-Fi,...   \n",
       "1  AVqkIhwDv8e3D1O-lebb  All-New Fire HD 8 Tablet, 8 HD Display, Wi-Fi,...   \n",
       "2  AVqkIhwDv8e3D1O-lebb  All-New Fire HD 8 Tablet, 8 HD Display, Wi-Fi,...   \n",
       "3  AVqkIhwDv8e3D1O-lebb  All-New Fire HD 8 Tablet, 8 HD Display, Wi-Fi,...   \n",
       "4  AVqkIhwDv8e3D1O-lebb  All-New Fire HD 8 Tablet, 8 HD Display, Wi-Fi,...   \n",
       "\n",
       "        asins   brand                                         categories  \\\n",
       "0  B01AHB9CN2  Amazon  Electronics,iPad & Tablets,All Tablets,Fire Ta...   \n",
       "1  B01AHB9CN2  Amazon  Electronics,iPad & Tablets,All Tablets,Fire Ta...   \n",
       "2  B01AHB9CN2  Amazon  Electronics,iPad & Tablets,All Tablets,Fire Ta...   \n",
       "3  B01AHB9CN2  Amazon  Electronics,iPad & Tablets,All Tablets,Fire Ta...   \n",
       "4  B01AHB9CN2  Amazon  Electronics,iPad & Tablets,All Tablets,Fire Ta...   \n",
       "\n",
       "                                                keys manufacturer  \\\n",
       "0  841667104676,amazon/53004484,amazon/b01ahb9cn2...       Amazon   \n",
       "1  841667104676,amazon/53004484,amazon/b01ahb9cn2...       Amazon   \n",
       "2  841667104676,amazon/53004484,amazon/b01ahb9cn2...       Amazon   \n",
       "3  841667104676,amazon/53004484,amazon/b01ahb9cn2...       Amazon   \n",
       "4  841667104676,amazon/53004484,amazon/b01ahb9cn2...       Amazon   \n",
       "\n",
       "               reviews.date     reviews.dateAdded  \\\n",
       "0  2017-01-13T00:00:00.000Z  2017-07-03T23:33:15Z   \n",
       "1  2017-01-13T00:00:00.000Z  2017-07-03T23:33:15Z   \n",
       "2  2017-01-13T00:00:00.000Z  2017-07-03T23:33:15Z   \n",
       "3  2017-01-13T00:00:00.000Z  2017-07-03T23:33:15Z   \n",
       "4  2017-01-12T00:00:00.000Z  2017-07-03T23:33:15Z   \n",
       "\n",
       "                                    reviews.dateSeen  ... reviews.numHelpful  \\\n",
       "0  2017-06-07T09:04:00.000Z,2017-04-30T00:45:00.000Z  ...                0.0   \n",
       "1  2017-06-07T09:04:00.000Z,2017-04-30T00:45:00.000Z  ...                0.0   \n",
       "2  2017-06-07T09:04:00.000Z,2017-04-30T00:45:00.000Z  ...                0.0   \n",
       "3  2017-06-07T09:04:00.000Z,2017-04-30T00:45:00.000Z  ...                0.0   \n",
       "4  2017-06-07T09:04:00.000Z,2017-04-30T00:45:00.000Z  ...                0.0   \n",
       "\n",
       "  reviews.rating                                 reviews.sourceURLs  \\\n",
       "0            5.0  http://reviews.bestbuy.com/3545/5620406/review...   \n",
       "1            5.0  http://reviews.bestbuy.com/3545/5620406/review...   \n",
       "2            5.0  http://reviews.bestbuy.com/3545/5620406/review...   \n",
       "3            4.0  http://reviews.bestbuy.com/3545/5620406/review...   \n",
       "4            5.0  http://reviews.bestbuy.com/3545/5620406/review...   \n",
       "\n",
       "                                        reviews.text  \\\n",
       "0  This product so far has not disappointed. My c...   \n",
       "1  great for beginner or experienced person. Boug...   \n",
       "2  Inexpensive tablet for him to use and learn on...   \n",
       "3  I've had my Fire HD 8 two weeks now and I love...   \n",
       "4  I bought this for my grand daughter when she c...   \n",
       "\n",
       "                             reviews.title reviews.userCity  \\\n",
       "0                                   Kindle              NaN   \n",
       "1                                very fast              NaN   \n",
       "2  Beginner tablet for our 9 year old son.              NaN   \n",
       "3                                  Good!!!              NaN   \n",
       "4                Fantastic Tablet for kids              NaN   \n",
       "\n",
       "  reviews.userProvince reviews.username  sentiment_score  sentiment  \n",
       "0                  NaN          Adapter              1.0   POSITIVE  \n",
       "1                  NaN           truman              1.0   POSITIVE  \n",
       "2                  NaN            DaveZ              1.0   POSITIVE  \n",
       "3                  NaN           Shacks              1.0   POSITIVE  \n",
       "4                  NaN        explore42              1.0   POSITIVE  \n",
       "\n",
       "[5 rows x 23 columns]"
      ]
     },
     "execution_count": 16,
     "metadata": {},
     "output_type": "execute_result"
    }
   ],
   "source": [
    "# map ratings 1, 2, 3 to 0 (NEGATIVE) and 4, 5 to 1 (POSITIVE) \n",
    "sentiment_score = {1: 0,\n",
    "                   2: 0,\n",
    "                   3: 0,\n",
    "                   4: 1,\n",
    "                   5: 1}\n",
    "\n",
    "sentiment = {0: 'NEGATIVE',\n",
    "             1: 'POSITIVE'}\n",
    "\n",
    "\n",
    "# mapping\n",
    "data['sentiment_score'] = data['reviews.rating'].map(sentiment_score)\n",
    "data['sentiment'] = data['sentiment_score'].map(sentiment)\n",
    "\n",
    "data.head()"
   ]
  },
  {
   "cell_type": "code",
   "execution_count": 17,
   "id": "398710f9",
   "metadata": {
    "execution": {
     "iopub.execute_input": "2022-04-15T14:08:17.474254Z",
     "iopub.status.busy": "2022-04-15T14:08:17.473971Z",
     "iopub.status.idle": "2022-04-15T14:08:17.587972Z",
     "shell.execute_reply": "2022-04-15T14:08:17.587034Z"
    },
    "papermill": {
     "duration": 0.15958,
     "end_time": "2022-04-15T14:08:17.590209",
     "exception": false,
     "start_time": "2022-04-15T14:08:17.430629",
     "status": "completed"
    },
    "tags": []
   },
   "outputs": [
    {
     "data": {
      "image/png": "[encoded data removed]",
      "text/plain": [
       "<Figure size 576x576 with 1 Axes>"
      ]
     },
     "metadata": {},
     "output_type": "display_data"
    }
   ],
   "source": [
    "# distribution of sentiment\n",
    "plt.figure(figsize = (8, 8))\n",
    "\n",
    "labels = ['POSITIVE', 'NEGATIVE']\n",
    "colors = ['#189AB4', '#D4F1F4']\n",
    "plt.pie(data['sentiment'].value_counts(), autopct='%0.2f%%',colors=colors)\n",
    "\n",
    "plt.title('Distribution of sentiment', size=14, y=-0.01)\n",
    "plt.legend(labels, ncol=2, loc=9)\n",
    "plt.show()"
   ]
  },
  {
   "cell_type": "markdown",
   "id": "e1f52c32",
   "metadata": {
    "papermill": {
     "duration": 0.044265,
     "end_time": "2022-04-15T14:08:17.679105",
     "exception": false,
     "start_time": "2022-04-15T14:08:17.634840",
     "status": "completed"
    },
    "tags": []
   },
   "source": [
    "# All Reviews wordcloud"
   ]
  },
  {
   "cell_type": "code",
   "execution_count": 18,
   "id": "a73a0ee1",
   "metadata": {
    "execution": {
     "iopub.execute_input": "2022-04-15T14:08:17.767312Z",
     "iopub.status.busy": "2022-04-15T14:08:17.767017Z",
     "iopub.status.idle": "2022-04-15T14:08:18.588038Z",
     "shell.execute_reply": "2022-04-15T14:08:18.587146Z"
    },
    "papermill": {
     "duration": 0.869847,
     "end_time": "2022-04-15T14:08:18.592507",
     "exception": false,
     "start_time": "2022-04-15T14:08:17.722660",
     "status": "completed"
    },
    "tags": []
   },
   "outputs": [
    {
     "ename": "ModuleNotFoundError",
     "evalue": "No module named 'wordcloud'",
     "output_type": "error",
     "traceback": [
      "\u001b[1;31m---------------------------------------------------------------------------\u001b[0m",
      "\u001b[1;31mModuleNotFoundError\u001b[0m                       Traceback (most recent call last)",
      "\u001b[1;32mc:\\Users\\LENOVO\\OneDrive\\Desktop\\Major-project-Hari\\Sentiment-Analysis-ML-Flask-App\\amazonreview-sentimentanalysis-with-modelcompare.ipynb Cell 17'\u001b[0m in \u001b[0;36m<cell line: 6>\u001b[1;34m()\u001b[0m\n\u001b[0;32m      <a href='vscode-notebook-cell:/c%3A/Users/LENOVO/OneDrive/Desktop/Major-project-Hari/Sentiment-Analysis-ML-Flask-App/amazonreview-sentimentanalysis-with-modelcompare.ipynb#ch0000016?line=2'>3</a>\u001b[0m all_words \u001b[39m=\u001b[39mpd\u001b[39m.\u001b[39mSeries(\u001b[39m'\u001b[39m\u001b[39m \u001b[39m\u001b[39m'\u001b[39m\u001b[39m.\u001b[39mjoin(\u001b[39mstr\u001b[39m(data[\u001b[39m'\u001b[39m\u001b[39mreviews.text\u001b[39m\u001b[39m'\u001b[39m])\u001b[39m.\u001b[39msplit()))\n\u001b[0;32m      <a href='vscode-notebook-cell:/c%3A/Users/LENOVO/OneDrive/Desktop/Major-project-Hari/Sentiment-Analysis-ML-Flask-App/amazonreview-sentimentanalysis-with-modelcompare.ipynb#ch0000016?line=4'>5</a>\u001b[0m \u001b[39m# plot word cloud\u001b[39;00m\n\u001b[1;32m----> <a href='vscode-notebook-cell:/c%3A/Users/LENOVO/OneDrive/Desktop/Major-project-Hari/Sentiment-Analysis-ML-Flask-App/amazonreview-sentimentanalysis-with-modelcompare.ipynb#ch0000016?line=5'>6</a>\u001b[0m \u001b[39mfrom\u001b[39;00m \u001b[39mwordcloud\u001b[39;00m \u001b[39mimport\u001b[39;00m WordCloud, STOPWORDS, ImageColorGenerator\n\u001b[0;32m      <a href='vscode-notebook-cell:/c%3A/Users/LENOVO/OneDrive/Desktop/Major-project-Hari/Sentiment-Analysis-ML-Flask-App/amazonreview-sentimentanalysis-with-modelcompare.ipynb#ch0000016?line=6'>7</a>\u001b[0m wordcloud \u001b[39m=\u001b[39m WordCloud(width \u001b[39m=\u001b[39m \u001b[39m1000\u001b[39m, height \u001b[39m=\u001b[39m \u001b[39m500\u001b[39m)\u001b[39m.\u001b[39mgenerate(\u001b[39m'\u001b[39m\u001b[39m \u001b[39m\u001b[39m'\u001b[39m\u001b[39m.\u001b[39mjoin(all_words))\n\u001b[0;32m      <a href='vscode-notebook-cell:/c%3A/Users/LENOVO/OneDrive/Desktop/Major-project-Hari/Sentiment-Analysis-ML-Flask-App/amazonreview-sentimentanalysis-with-modelcompare.ipynb#ch0000016?line=8'>9</a>\u001b[0m plt\u001b[39m.\u001b[39mfigure(figsize\u001b[39m=\u001b[39m(\u001b[39m15\u001b[39m,\u001b[39m8\u001b[39m))\n",
      "\u001b[1;31mModuleNotFoundError\u001b[0m: No module named 'wordcloud'"
     ]
    }
   ],
   "source": [
    "# get all used words \n",
    "# = pd.Series(' '.join(data['reviews.text']).split())\n",
    "all_words =pd.Series(' '.join(str(data['reviews.text']).split()))\n",
    "\n",
    "# plot word cloud\n",
    "from wordcloud import WordCloud, STOPWORDS, ImageColorGenerator\n",
    "wordcloud = WordCloud(width = 1000, height = 500).generate(' '.join(all_words))\n",
    "\n",
    "plt.figure(figsize=(15,8))\n",
    "\n",
    "plt.imshow(wordcloud)\n",
    "plt.title(\"Most used words in all reviws\", size=16)\n",
    "\n",
    "plt.axis(\"off\")\n",
    "plt.show()\n"
   ]
  },
  {
   "cell_type": "code",
   "execution_count": null,
   "id": "36495152",
   "metadata": {
    "execution": {
     "iopub.execute_input": "2022-04-15T14:08:18.692850Z",
     "iopub.status.busy": "2022-04-15T14:08:18.692397Z",
     "iopub.status.idle": "2022-04-15T14:08:18.917862Z",
     "shell.execute_reply": "2022-04-15T14:08:18.916740Z"
    },
    "papermill": {
     "duration": 0.278408,
     "end_time": "2022-04-15T14:08:18.920224",
     "exception": false,
     "start_time": "2022-04-15T14:08:18.641816",
     "status": "completed"
    },
    "tags": []
   },
   "outputs": [
    {
     "name": "stdout",
     "output_type": "stream",
     "text": [
      "Before 34660\n",
      "After 34627\n"
     ]
    }
   ],
   "source": [
    "from sklearn.model_selection import StratifiedShuffleSplit\n",
    "print(\"Before {}\".format(len(data)))\n",
    "dataAfter = data.dropna(subset=[\"reviews.rating\"])\n",
    "# Removes all NAN in reviews.rating\n",
    "print(\"After {}\".format(len(dataAfter)))\n",
    "dataAfter[\"reviews.rating\"] = dataAfter[\"reviews.rating\"].astype(int)"
   ]
  },
  {
   "cell_type": "code",
   "execution_count": null,
   "id": "6f370c6d",
   "metadata": {
    "execution": {
     "iopub.execute_input": "2022-04-15T14:08:19.022959Z",
     "iopub.status.busy": "2022-04-15T14:08:19.022433Z",
     "iopub.status.idle": "2022-04-15T14:08:19.164399Z",
     "shell.execute_reply": "2022-04-15T14:08:19.163196Z"
    },
    "papermill": {
     "duration": 0.195479,
     "end_time": "2022-04-15T14:08:19.166817",
     "exception": false,
     "start_time": "2022-04-15T14:08:18.971338",
     "status": "completed"
    },
    "tags": []
   },
   "outputs": [],
   "source": [
    "split = StratifiedShuffleSplit(n_splits=5, test_size=0.2)\n",
    "for train_index, test_index in split.split(dataAfter,\n",
    "                                           dataAfter[\"reviews.rating\"]): \n",
    "    strat_train = dataAfter.reindex(train_index)\n",
    "    strat_test = dataAfter.reindex(test_index)"
   ]
  },
  {
   "cell_type": "code",
   "execution_count": null,
   "id": "e2ea6fa7",
   "metadata": {
    "execution": {
     "iopub.execute_input": "2022-04-15T14:08:19.269040Z",
     "iopub.status.busy": "2022-04-15T14:08:19.268676Z",
     "iopub.status.idle": "2022-04-15T14:08:19.274044Z",
     "shell.execute_reply": "2022-04-15T14:08:19.273419Z"
    },
    "papermill": {
     "duration": 0.058368,
     "end_time": "2022-04-15T14:08:19.275627",
     "exception": false,
     "start_time": "2022-04-15T14:08:19.217259",
     "status": "completed"
    },
    "tags": []
   },
   "outputs": [
    {
     "data": {
      "text/plain": [
       "(27701, 6926)"
      ]
     },
     "execution_count": 15,
     "metadata": {},
     "output_type": "execute_result"
    }
   ],
   "source": [
    "len(strat_train),len(strat_test)"
   ]
  },
  {
   "cell_type": "code",
   "execution_count": null,
   "id": "0034fd08",
   "metadata": {
    "execution": {
     "iopub.execute_input": "2022-04-15T14:08:19.377990Z",
     "iopub.status.busy": "2022-04-15T14:08:19.377428Z",
     "iopub.status.idle": "2022-04-15T14:08:19.387394Z",
     "shell.execute_reply": "2022-04-15T14:08:19.386599Z"
    },
    "papermill": {
     "duration": 0.063701,
     "end_time": "2022-04-15T14:08:19.389315",
     "exception": false,
     "start_time": "2022-04-15T14:08:19.325614",
     "status": "completed"
    },
    "tags": []
   },
   "outputs": [
    {
     "data": {
      "text/plain": [
       "5.0    0.685174\n",
       "4.0    0.247031\n",
       "3.0    0.043500\n",
       "2.0    0.011696\n",
       "1.0    0.011588\n",
       "Name: reviews.rating, dtype: float64"
      ]
     },
     "execution_count": 16,
     "metadata": {},
     "output_type": "execute_result"
    }
   ],
   "source": [
    "strat_train[\"reviews.rating\"].value_counts()/len(strat_train)"
   ]
  },
  {
   "cell_type": "code",
   "execution_count": null,
   "id": "e211b6c3",
   "metadata": {
    "execution": {
     "iopub.execute_input": "2022-04-15T14:08:19.496822Z",
     "iopub.status.busy": "2022-04-15T14:08:19.496288Z",
     "iopub.status.idle": "2022-04-15T14:08:19.502983Z",
     "shell.execute_reply": "2022-04-15T14:08:19.502433Z"
    },
    "papermill": {
     "duration": 0.062868,
     "end_time": "2022-04-15T14:08:19.504743",
     "exception": false,
     "start_time": "2022-04-15T14:08:19.441875",
     "status": "completed"
    },
    "tags": []
   },
   "outputs": [
    {
     "data": {
      "text/plain": [
       "5.0    0.689864\n",
       "4.0    0.244730\n",
       "3.0    0.042160\n",
       "1.0    0.011406\n",
       "2.0    0.011118\n",
       "Name: reviews.rating, dtype: float64"
      ]
     },
     "execution_count": 17,
     "metadata": {},
     "output_type": "execute_result"
    }
   ],
   "source": [
    "strat_test[\"reviews.rating\"].value_counts()/len(strat_test)"
   ]
  },
  {
   "cell_type": "markdown",
   "id": "90f09e50",
   "metadata": {
    "papermill": {
     "duration": 0.05069,
     "end_time": "2022-04-15T14:08:19.608395",
     "exception": false,
     "start_time": "2022-04-15T14:08:19.557705",
     "status": "completed"
    },
    "tags": []
   },
   "source": [
    "# Data Exploration "
   ]
  },
  {
   "cell_type": "code",
   "execution_count": null,
   "id": "19533aa8",
   "metadata": {
    "execution": {
     "iopub.execute_input": "2022-04-15T14:08:19.712875Z",
     "iopub.status.busy": "2022-04-15T14:08:19.712333Z",
     "iopub.status.idle": "2022-04-15T14:08:19.738000Z",
     "shell.execute_reply": "2022-04-15T14:08:19.737416Z"
    },
    "papermill": {
     "duration": 0.080013,
     "end_time": "2022-04-15T14:08:19.739810",
     "exception": false,
     "start_time": "2022-04-15T14:08:19.659797",
     "status": "completed"
    },
    "tags": []
   },
   "outputs": [
    {
     "data": {
      "text/html": [
       "<div>\n",
       "<style scoped>\n",
       "    .dataframe tbody tr th:only-of-type {\n",
       "        vertical-align: middle;\n",
       "    }\n",
       "\n",
       "    .dataframe tbody tr th {\n",
       "        vertical-align: top;\n",
       "    }\n",
       "\n",
       "    .dataframe thead th {\n",
       "        text-align: right;\n",
       "    }\n",
       "</style>\n",
       "<table border=\"1\" class=\"dataframe\">\n",
       "  <thead>\n",
       "    <tr style=\"text-align: right;\">\n",
       "      <th></th>\n",
       "      <th>id</th>\n",
       "      <th>name</th>\n",
       "      <th>asins</th>\n",
       "      <th>brand</th>\n",
       "      <th>categories</th>\n",
       "      <th>keys</th>\n",
       "      <th>manufacturer</th>\n",
       "      <th>reviews.date</th>\n",
       "      <th>reviews.dateAdded</th>\n",
       "      <th>reviews.dateSeen</th>\n",
       "      <th>...</th>\n",
       "      <th>reviews.numHelpful</th>\n",
       "      <th>reviews.rating</th>\n",
       "      <th>reviews.sourceURLs</th>\n",
       "      <th>reviews.text</th>\n",
       "      <th>reviews.title</th>\n",
       "      <th>reviews.userCity</th>\n",
       "      <th>reviews.userProvince</th>\n",
       "      <th>reviews.username</th>\n",
       "      <th>sentiment_score</th>\n",
       "      <th>sentiment</th>\n",
       "    </tr>\n",
       "  </thead>\n",
       "  <tbody>\n",
       "    <tr>\n",
       "      <th>4349</th>\n",
       "      <td>AVphgVaX1cnluZ0-DR74</td>\n",
       "      <td>Fire Tablet, 7 Display, Wi-Fi, 8 GB - Includes...</td>\n",
       "      <td>B018Y229OU</td>\n",
       "      <td>Amazon</td>\n",
       "      <td>Fire Tablets,Tablets,Computers &amp; Tablets,All T...</td>\n",
       "      <td>firetablet7displaywifi8gbincludesspecialoffers...</td>\n",
       "      <td>Amazon</td>\n",
       "      <td>2015-11-28T00:00:00.000Z</td>\n",
       "      <td>2017-05-21T04:06:08Z</td>\n",
       "      <td>2017-04-30T00:26:00.000Z,2017-06-07T08:10:00.000Z</td>\n",
       "      <td>...</td>\n",
       "      <td>5.0</td>\n",
       "      <td>5.0</td>\n",
       "      <td>http://reviews.bestbuy.com/3545/5025800/review...</td>\n",
       "      <td>we bought this for my 11 year old daughter and...</td>\n",
       "      <td>great for all ages</td>\n",
       "      <td>NaN</td>\n",
       "      <td>NaN</td>\n",
       "      <td>Mark</td>\n",
       "      <td>1.0</td>\n",
       "      <td>POSITIVE</td>\n",
       "    </tr>\n",
       "    <tr>\n",
       "      <th>30776</th>\n",
       "      <td>AV1YE_muvKc47QAVgpwE</td>\n",
       "      <td>NaN</td>\n",
       "      <td>B00U3FPN4U</td>\n",
       "      <td>Amazon Fire Tv</td>\n",
       "      <td>Back To College,College Electronics,College Tv...</td>\n",
       "      <td>848719057492,amazonfiretv/51454342,amazonfiret...</td>\n",
       "      <td>Amazon</td>\n",
       "      <td>2017-01-06T00:00:00.000Z</td>\n",
       "      <td>2017-09-20T05:35:55Z</td>\n",
       "      <td>2017-08-25T22:21:42.763Z,2017-08-19T09:26:46.1...</td>\n",
       "      <td>...</td>\n",
       "      <td>0.0</td>\n",
       "      <td>5.0</td>\n",
       "      <td>http://reviews.bestbuy.com/3545/4370400/review...</td>\n",
       "      <td>I have the Roku 4, and new Apple TV, this stre...</td>\n",
       "      <td>Great streaming box</td>\n",
       "      <td>NaN</td>\n",
       "      <td>NaN</td>\n",
       "      <td>Techno</td>\n",
       "      <td>1.0</td>\n",
       "      <td>POSITIVE</td>\n",
       "    </tr>\n",
       "  </tbody>\n",
       "</table>\n",
       "<p>2 rows × 23 columns</p>\n",
       "</div>"
      ],
      "text/plain": [
       "                         id  \\\n",
       "4349   AVphgVaX1cnluZ0-DR74   \n",
       "30776  AV1YE_muvKc47QAVgpwE   \n",
       "\n",
       "                                                    name       asins  \\\n",
       "4349   Fire Tablet, 7 Display, Wi-Fi, 8 GB - Includes...  B018Y229OU   \n",
       "30776                                                NaN  B00U3FPN4U   \n",
       "\n",
       "                brand                                         categories  \\\n",
       "4349           Amazon  Fire Tablets,Tablets,Computers & Tablets,All T...   \n",
       "30776  Amazon Fire Tv  Back To College,College Electronics,College Tv...   \n",
       "\n",
       "                                                    keys manufacturer  \\\n",
       "4349   firetablet7displaywifi8gbincludesspecialoffers...       Amazon   \n",
       "30776  848719057492,amazonfiretv/51454342,amazonfiret...       Amazon   \n",
       "\n",
       "                   reviews.date     reviews.dateAdded  \\\n",
       "4349   2015-11-28T00:00:00.000Z  2017-05-21T04:06:08Z   \n",
       "30776  2017-01-06T00:00:00.000Z  2017-09-20T05:35:55Z   \n",
       "\n",
       "                                        reviews.dateSeen  ...  \\\n",
       "4349   2017-04-30T00:26:00.000Z,2017-06-07T08:10:00.000Z  ...   \n",
       "30776  2017-08-25T22:21:42.763Z,2017-08-19T09:26:46.1...  ...   \n",
       "\n",
       "      reviews.numHelpful reviews.rating  \\\n",
       "4349                 5.0            5.0   \n",
       "30776                0.0            5.0   \n",
       "\n",
       "                                      reviews.sourceURLs  \\\n",
       "4349   http://reviews.bestbuy.com/3545/5025800/review...   \n",
       "30776  http://reviews.bestbuy.com/3545/4370400/review...   \n",
       "\n",
       "                                            reviews.text        reviews.title  \\\n",
       "4349   we bought this for my 11 year old daughter and...   great for all ages   \n",
       "30776  I have the Roku 4, and new Apple TV, this stre...  Great streaming box   \n",
       "\n",
       "      reviews.userCity reviews.userProvince reviews.username  sentiment_score  \\\n",
       "4349               NaN                  NaN             Mark              1.0   \n",
       "30776              NaN                  NaN           Techno              1.0   \n",
       "\n",
       "       sentiment  \n",
       "4349    POSITIVE  \n",
       "30776   POSITIVE  \n",
       "\n",
       "[2 rows x 23 columns]"
      ]
     },
     "execution_count": 18,
     "metadata": {},
     "output_type": "execute_result"
    }
   ],
   "source": [
    "reviews = strat_train.copy()\n",
    "reviews.head(2)"
   ]
  },
  {
   "cell_type": "code",
   "execution_count": null,
   "id": "7dd1bbc5",
   "metadata": {
    "execution": {
     "iopub.execute_input": "2022-04-15T14:08:19.845641Z",
     "iopub.status.busy": "2022-04-15T14:08:19.845120Z",
     "iopub.status.idle": "2022-04-15T14:08:19.852937Z",
     "shell.execute_reply": "2022-04-15T14:08:19.852297Z"
    },
    "papermill": {
     "duration": 0.06308,
     "end_time": "2022-04-15T14:08:19.854623",
     "exception": false,
     "start_time": "2022-04-15T14:08:19.791543",
     "status": "completed"
    },
    "tags": []
   },
   "outputs": [
    {
     "data": {
      "text/plain": [
       "(47, 35)"
      ]
     },
     "execution_count": 19,
     "metadata": {},
     "output_type": "execute_result"
    }
   ],
   "source": [
    "len(reviews[\"name\"].unique()), len(reviews[\"asins\"].unique()) \n"
   ]
  },
  {
   "cell_type": "code",
   "execution_count": null,
   "id": "b2665636",
   "metadata": {
    "execution": {
     "iopub.execute_input": "2022-04-15T14:08:19.963452Z",
     "iopub.status.busy": "2022-04-15T14:08:19.962916Z",
     "iopub.status.idle": "2022-04-15T14:08:20.002698Z",
     "shell.execute_reply": "2022-04-15T14:08:20.002013Z"
    },
    "papermill": {
     "duration": 0.098748,
     "end_time": "2022-04-15T14:08:20.005854",
     "exception": false,
     "start_time": "2022-04-15T14:08:19.907106",
     "status": "completed"
    },
    "tags": []
   },
   "outputs": [
    {
     "name": "stdout",
     "output_type": "stream",
     "text": [
      "<class 'pandas.core.frame.DataFrame'>\n",
      "Int64Index: 27701 entries, 4349 to 29636\n",
      "Data columns (total 23 columns):\n",
      " #   Column                Non-Null Count  Dtype  \n",
      "---  ------                --------------  -----  \n",
      " 0   id                    27673 non-null  object \n",
      " 1   name                  22268 non-null  object \n",
      " 2   asins                 27672 non-null  object \n",
      " 3   brand                 27673 non-null  object \n",
      " 4   categories            27673 non-null  object \n",
      " 5   keys                  27673 non-null  object \n",
      " 6   manufacturer          27673 non-null  object \n",
      " 7   reviews.date          27659 non-null  object \n",
      " 8   reviews.dateAdded     19228 non-null  object \n",
      " 9   reviews.dateSeen      27673 non-null  object \n",
      " 10  reviews.didPurchase   1 non-null      object \n",
      " 11  reviews.doRecommend   27257 non-null  object \n",
      " 12  reviews.id            1 non-null      float64\n",
      " 13  reviews.numHelpful    27304 non-null  float64\n",
      " 14  reviews.rating        27673 non-null  float64\n",
      " 15  reviews.sourceURLs    27673 non-null  object \n",
      " 16  reviews.text          27672 non-null  object \n",
      " 17  reviews.title         27668 non-null  object \n",
      " 18  reviews.userCity      0 non-null      float64\n",
      " 19  reviews.userProvince  0 non-null      float64\n",
      " 20  reviews.username      27671 non-null  object \n",
      " 21  sentiment_score       27673 non-null  float64\n",
      " 22  sentiment             27673 non-null  object \n",
      "dtypes: float64(6), object(17)\n",
      "memory usage: 5.1+ MB\n"
     ]
    }
   ],
   "source": [
    "reviews.info() \n"
   ]
  },
  {
   "cell_type": "code",
   "execution_count": null,
   "id": "a08fdae8",
   "metadata": {
    "execution": {
     "iopub.execute_input": "2022-04-15T14:08:20.116813Z",
     "iopub.status.busy": "2022-04-15T14:08:20.116317Z",
     "iopub.status.idle": "2022-04-15T14:08:20.136936Z",
     "shell.execute_reply": "2022-04-15T14:08:20.136183Z"
    },
    "papermill": {
     "duration": 0.076946,
     "end_time": "2022-04-15T14:08:20.138741",
     "exception": false,
     "start_time": "2022-04-15T14:08:20.061795",
     "status": "completed"
    },
    "tags": []
   },
   "outputs": [
    {
     "data": {
      "text/plain": [
       "asins\n",
       "B005PB2T0S               [Amazon Kindle Lighted Leather Cover,,,\\r\\nAma...\n",
       "B005PB2T2Q               [Fire Kids Edition Tablet, 7 Display, Wi-Fi, 1...\n",
       "B00IOY8XWQ               [Kindle Paperwhite,,,\\r\\nKindle Paperwhite,,,,...\n",
       "B00IOYAM4I               [Brand New Amazon Kindle Fire 16gb 7 Ips Displ...\n",
       "B00L9EPT8O,B01E6AO69U    [Echo (White),,,\\r\\nEcho (White),,,, Amazon Fi...\n",
       "B00LO29KXQ               [Fire Tablet, 7 Display, Wi-Fi, 8 GB - Include...\n",
       "B00LW9XOJM                                                           [nan]\n",
       "B00OQVZDJM               [Amazon Kindle Paperwhite - eBook reader - 4 G...\n",
       "B00QFQRELG                                                           [nan]\n",
       "B00QJDU3KY               [Fire Tablet, 7 Display, Wi-Fi, 8 GB - Include...\n",
       "B00QL1ZN3G                                                           [nan]\n",
       "B00REQKWGA               [Brand New Amazon Kindle Fire 16gb 7 Ips Displ...\n",
       "B00TSUGXKE                            [Echo (White),,,\\r\\nEcho (White),,,]\n",
       "B00U3FPN4U                                                           [nan]\n",
       "B00UH4D8G2                            [Echo (White),,,\\r\\nEcho (White),,,]\n",
       "B00VINDBJK               [Kindle Oasis E-reader with Leather Charging C...\n",
       "B00X4WHP5E                                                           [nan]\n",
       "B00ZV9PXP2               [Fire Tablet, 7 Display, Wi-Fi, 8 GB - Include...\n",
       "B0189XYY0Q                                                           [nan]\n",
       "B018SZT3BK               [Fire Tablet, 7 Display, Wi-Fi, 8 GB - Include...\n",
       "B018T075DC               [Brand New Amazon Kindle Fire 16gb 7 Ips Displ...\n",
       "B018Y225IA               [Brand New Amazon Kindle Fire 16gb 7 Ips Displ...\n",
       "B018Y229OU               [Fire Tablet, 7 Display, Wi-Fi, 8 GB - Include...\n",
       "B018Y22BI4                            [Echo (White),,,\\r\\nEcho (White),,,]\n",
       "B018Y22C2Y               [Fire Tablet, 7 Display, Wi-Fi, 8 GB - Include...\n",
       "B018Y23MNM               [Fire Kids Edition Tablet, 7 Display, Wi-Fi, 1...\n",
       "B018Y23P7K                                                           [nan]\n",
       "B01AHB9C1E               [Amazon 5W USB Official OEM Charger and Power ...\n",
       "B01AHB9CN2               [All-New Fire HD 8 Tablet, 8 HD Display, Wi-Fi...\n",
       "B01AHB9CYG               [All-New Fire HD 8 Tablet, 8 HD Display, Wi-Fi...\n",
       "B01BFIBRIE               [Fire Tablet, 7 Display, Wi-Fi, 8 GB - Include...\n",
       "B01BH83OOM                                                           [nan]\n",
       "B01J2G4VBG               [All-New Kindle E-reader - Black, 6 Glare-Free...\n",
       "B01J4ORNHU               [Fire Tablet, 7 Display, Wi-Fi, 8 GB - Include...\n",
       "Name: name, dtype: object"
      ]
     },
     "execution_count": 21,
     "metadata": {},
     "output_type": "execute_result"
    }
   ],
   "source": [
    "reviews.groupby(\"asins\")[\"name\"].unique()"
   ]
  },
  {
   "cell_type": "code",
   "execution_count": null,
   "id": "97193a81",
   "metadata": {
    "execution": {
     "iopub.execute_input": "2022-04-15T14:08:20.247290Z",
     "iopub.status.busy": "2022-04-15T14:08:20.246729Z",
     "iopub.status.idle": "2022-04-15T14:08:20.260534Z",
     "shell.execute_reply": "2022-04-15T14:08:20.259268Z"
    },
    "papermill": {
     "duration": 0.071093,
     "end_time": "2022-04-15T14:08:20.262427",
     "exception": false,
     "start_time": "2022-04-15T14:08:20.191334",
     "status": "completed"
    },
    "tags": []
   },
   "outputs": [
    {
     "name": "stdout",
     "output_type": "stream",
     "text": [
      "Echo (White),,,\r\n",
      "Echo (White),,,\n",
      "Amazon Fire Tv,,,\r\n",
      "Amazon Fire Tv,,,\n",
      "nan\n",
      "Amazon - Amazon Tap Portable Bluetooth and Wi-Fi Speaker - Black,,,\r\n",
      "Amazon - Amazon Tap Portable Bluetooth and Wi-Fi Speaker - Black,,,\n",
      "Amazon Fire Hd 10 Tablet, Wi-Fi, 16 Gb, Special Offers - Silver Aluminum,,,\r\n",
      "Amazon Fire Hd 10 Tablet, Wi-Fi, 16 Gb, Special Offers - Silver Aluminum,,,\n",
      "Amazon 9W PowerFast Official OEM USB Charger and Power Adapter for Fire Tablets and Kindle eReaders,,,\r\n",
      "Amazon 9W PowerFast Official OEM USB Charger and Power Adapter for Fire Tablets and Kindle eReaders,,,\n",
      "Amazon Kindle Fire 5ft USB to Micro-USB Cable (works with most Micro-USB Tablets),,,\r\n",
      "Amazon Kindle Fire 5ft USB to Micro-USB Cable (works with most Micro-USB Tablets),,,\n",
      "Kindle Dx Leather Cover, Black (fits 9.7 Display, Latest and 2nd Generation Kindle Dxs),,\n",
      "Amazon Fire Hd 6 Standing Protective Case(4th Generation - 2014 Release), Cayenne Red,,,\r\n",
      "Amazon Fire Hd 6 Standing Protective Case(4th Generation - 2014 Release), Cayenne Red,,,\n",
      "Amazon Fire Hd 6 Standing Protective Case(4th Generation - 2014 Release), Cayenne Red,,,\r\n",
      "Amazon 5W USB Official OEM Charger and Power Adapter for Fire Tablets and Kindle eReaders,,,\n",
      "New Amazon Kindle Fire Hd 9w Powerfast Adapter Charger + Micro Usb Angle Cable,,,\r\n",
      "New Amazon Kindle Fire Hd 9w Powerfast Adapter Charger + Micro Usb Angle Cable,,,\n",
      "Amazon 5W USB Official OEM Charger and Power Adapter for Fire Tablets and Kindle eReaders,,,\r\n",
      "Amazon 5W USB Official OEM Charger and Power Adapter for Fire Tablets and Kindle eReaders,,,\n",
      "Echo (White),,,\r\n",
      "Fire Tablet, 7 Display, Wi-Fi, 8 GB - Includes Special Offers, Tangerine\"\n",
      "Echo (Black),,,\r\n",
      "Amazon 9W PowerFast Official OEM USB Charger and Power Adapter for Fire Tablets and Kindle eReaders,,,\n",
      "Echo (Black),,,\r\n",
      "Echo (Black),,,\n",
      "Amazon Fire Tv,,,\r\n",
      "Kindle Dx Leather Cover, Black (fits 9.7 Display, Latest and 2nd Generation Kindle Dxs)\",,\n",
      "New Amazon Kindle Fire Hd 9w Powerfast Adapter Charger + Micro Usb Angle Cable,,,\r\n",
      "\n"
     ]
    }
   ],
   "source": [
    "# Lets see all the different names for this product that have 2 ASINs\n",
    "different_names = reviews[reviews[\"asins\"] == \n",
    "                          \"B00L9EPT8O,B01E6AO69U\"][\"name\"].unique()\n",
    "for name in different_names:\n",
    "    print(name)"
   ]
  },
  {
   "cell_type": "code",
   "execution_count": null,
   "id": "f47ce48b",
   "metadata": {
    "execution": {
     "iopub.execute_input": "2022-04-15T14:08:20.370805Z",
     "iopub.status.busy": "2022-04-15T14:08:20.370220Z",
     "iopub.status.idle": "2022-04-15T14:08:21.103368Z",
     "shell.execute_reply": "2022-04-15T14:08:21.102509Z"
    },
    "papermill": {
     "duration": 0.790196,
     "end_time": "2022-04-15T14:08:21.105972",
     "exception": false,
     "start_time": "2022-04-15T14:08:20.315776",
     "status": "completed"
    },
    "tags": []
   },
   "outputs": [
    {
     "data": {
      "image/png": "[encoded data removed]",
      "text/plain": [
       "<Figure size 1152x720 with 2 Axes>"
      ]
     },
     "metadata": {
      "needs_background": "light"
     },
     "output_type": "display_data"
    }
   ],
   "source": [
    "fig = plt.figure(figsize=(16,10))\n",
    "ax1 = plt.subplot(211)\n",
    "ax2 = plt.subplot(212, sharex = ax1)\n",
    "reviews[\"asins\"].value_counts().plot(kind=\"bar\", ax=ax1, title=\"ASIN Frequency\")\n",
    "np.log10(reviews[\"asins\"].value_counts()).plot(kind=\"bar\", ax=ax2, \n",
    "                                               title=\"ASIN Frequency (Log10 Adjusted)\") \n",
    "plt.show()"
   ]
  },
  {
   "cell_type": "code",
   "execution_count": null,
   "id": "e5548a38",
   "metadata": {
    "execution": {
     "iopub.execute_input": "2022-04-15T14:08:21.220830Z",
     "iopub.status.busy": "2022-04-15T14:08:21.220567Z",
     "iopub.status.idle": "2022-04-15T14:08:21.225774Z",
     "shell.execute_reply": "2022-04-15T14:08:21.225222Z"
    },
    "papermill": {
     "duration": 0.063634,
     "end_time": "2022-04-15T14:08:21.227333",
     "exception": false,
     "start_time": "2022-04-15T14:08:21.163699",
     "status": "completed"
    },
    "tags": []
   },
   "outputs": [
    {
     "data": {
      "text/plain": [
       "4.5841072525566435"
      ]
     },
     "execution_count": 24,
     "metadata": {},
     "output_type": "execute_result"
    }
   ],
   "source": [
    "# Entire training dataset average rating\n",
    "reviews[\"reviews.rating\"].mean()"
   ]
  },
  {
   "cell_type": "markdown",
   "id": "7c944de1",
   "metadata": {
    "papermill": {
     "duration": 0.056264,
     "end_time": "2022-04-15T14:08:21.338848",
     "exception": false,
     "start_time": "2022-04-15T14:08:21.282584",
     "status": "completed"
    },
    "tags": []
   },
   "source": [
    "# Reviews.rating / ASINs"
   ]
  },
  {
   "cell_type": "code",
   "execution_count": null,
   "id": "a821c396",
   "metadata": {
    "execution": {
     "iopub.execute_input": "2022-04-15T14:08:21.451178Z",
     "iopub.status.busy": "2022-04-15T14:08:21.450644Z",
     "iopub.status.idle": "2022-04-15T14:08:23.163121Z",
     "shell.execute_reply": "2022-04-15T14:08:23.162465Z"
    },
    "papermill": {
     "duration": 1.771693,
     "end_time": "2022-04-15T14:08:23.165834",
     "exception": false,
     "start_time": "2022-04-15T14:08:21.394141",
     "status": "completed"
    },
    "tags": []
   },
   "outputs": [
    {
     "data": {
      "image/png": "[encoded data removed]",
      "text/plain": [
       "<Figure size 1152x864 with 2 Axes>"
      ]
     },
     "metadata": {
      "needs_background": "light"
     },
     "output_type": "display_data"
    }
   ],
   "source": [
    "asins_count_ix = reviews[\"asins\"].value_counts().index\n",
    "plt.subplots(2,1,figsize=(16,12))\n",
    "plt.subplot(2,1,1)\n",
    "reviews[\"asins\"].value_counts().plot(kind=\"bar\", title=\"ASIN Frequency\")\n",
    "plt.subplot(2,1,2)\n",
    "sns.pointplot(x=\"asins\", y=\"reviews.rating\", order=asins_count_ix, data=reviews)\n",
    "plt.xticks(rotation=90)\n",
    "plt.show()"
   ]
  },
  {
   "cell_type": "markdown",
   "id": "47f05338",
   "metadata": {
    "papermill": {
     "duration": 0.062402,
     "end_time": "2022-04-15T14:08:23.288103",
     "exception": false,
     "start_time": "2022-04-15T14:08:23.225701",
     "status": "completed"
    },
    "tags": []
   },
   "source": [
    "# Reviews.doRecommend/ASINs"
   ]
  },
  {
   "cell_type": "code",
   "execution_count": null,
   "id": "06ff0249",
   "metadata": {
    "execution": {
     "iopub.execute_input": "2022-04-15T14:08:23.406783Z",
     "iopub.status.busy": "2022-04-15T14:08:23.406486Z",
     "iopub.status.idle": "2022-04-15T14:08:27.565252Z",
     "shell.execute_reply": "2022-04-15T14:08:27.564390Z"
    },
    "papermill": {
     "duration": 4.221261,
     "end_time": "2022-04-15T14:08:27.567716",
     "exception": false,
     "start_time": "2022-04-15T14:08:23.346455",
     "status": "completed"
    },
    "tags": []
   },
   "outputs": [
    {
     "data": {
      "image/png": "[encoded data removed]",
      "text/plain": [
       "<Figure size 1152x864 with 2 Axes>"
      ]
     },
     "metadata": {
      "needs_background": "light"
     },
     "output_type": "display_data"
    },
    {
     "data": {
      "image/png": "[encoded data removed]",
      "text/plain": [
       "<Figure size 1152x864 with 2 Axes>"
      ]
     },
     "metadata": {
      "needs_background": "light"
     },
     "output_type": "display_data"
    }
   ],
   "source": [
    "asins_count_ix = reviews[\"asins\"].value_counts().index\n",
    "plt.subplots(2,1,figsize=(16,12))\n",
    "plt.subplot(2,1,1)\n",
    "reviews[\"asins\"].value_counts().plot(kind=\"bar\", title=\"ASIN Frequency\")\n",
    "plt.subplot(2,1,2)\n",
    "sns.pointplot(x=\"asins\", y=\"reviews.rating\", order=asins_count_ix, data=reviews)\n",
    "plt.xticks(rotation=90)\n",
    "plt.show()\n",
    "plt.subplots (2,1,figsize=(16,12))\n",
    "plt.subplot(2,1,1)\n",
    "reviews[\"asins\"].value_counts().plot(kind=\"bar\", title=\"ASIN Frequency\")\n",
    "plt.subplot(2,1,2)\n",
    "sns.pointplot(x=\"asins\", y=\"reviews.doRecommend\", order=asins_count_ix,\n",
    "              data=reviews)\n",
    "plt.xticks(rotation=90)\n",
    "plt.show()"
   ]
  },
  {
   "cell_type": "markdown",
   "id": "3d77c856",
   "metadata": {
    "papermill": {
     "duration": 0.064614,
     "end_time": "2022-04-15T14:08:27.696693",
     "exception": false,
     "start_time": "2022-04-15T14:08:27.632079",
     "status": "completed"
    },
    "tags": []
   },
   "source": [
    "# Correlations"
   ]
  },
  {
   "cell_type": "code",
   "execution_count": null,
   "id": "571ab753",
   "metadata": {
    "execution": {
     "iopub.execute_input": "2022-04-15T14:08:27.830182Z",
     "iopub.status.busy": "2022-04-15T14:08:27.829755Z",
     "iopub.status.idle": "2022-04-15T14:08:27.844544Z",
     "shell.execute_reply": "2022-04-15T14:08:27.843666Z"
    },
    "papermill": {
     "duration": 0.084867,
     "end_time": "2022-04-15T14:08:27.846504",
     "exception": false,
     "start_time": "2022-04-15T14:08:27.761637",
     "status": "completed"
    },
    "tags": []
   },
   "outputs": [
    {
     "data": {
      "text/html": [
       "<div>\n",
       "<style scoped>\n",
       "    .dataframe tbody tr th:only-of-type {\n",
       "        vertical-align: middle;\n",
       "    }\n",
       "\n",
       "    .dataframe tbody tr th {\n",
       "        vertical-align: top;\n",
       "    }\n",
       "\n",
       "    .dataframe thead th {\n",
       "        text-align: right;\n",
       "    }\n",
       "</style>\n",
       "<table border=\"1\" class=\"dataframe\">\n",
       "  <thead>\n",
       "    <tr style=\"text-align: right;\">\n",
       "      <th></th>\n",
       "      <th>reviews.id</th>\n",
       "      <th>reviews.numHelpful</th>\n",
       "      <th>reviews.rating</th>\n",
       "      <th>reviews.userCity</th>\n",
       "      <th>reviews.userProvince</th>\n",
       "      <th>sentiment_score</th>\n",
       "    </tr>\n",
       "  </thead>\n",
       "  <tbody>\n",
       "    <tr>\n",
       "      <th>reviews.id</th>\n",
       "      <td>NaN</td>\n",
       "      <td>NaN</td>\n",
       "      <td>NaN</td>\n",
       "      <td>NaN</td>\n",
       "      <td>NaN</td>\n",
       "      <td>NaN</td>\n",
       "    </tr>\n",
       "    <tr>\n",
       "      <th>reviews.numHelpful</th>\n",
       "      <td>NaN</td>\n",
       "      <td>1.000000</td>\n",
       "      <td>-0.043720</td>\n",
       "      <td>NaN</td>\n",
       "      <td>NaN</td>\n",
       "      <td>-0.041311</td>\n",
       "    </tr>\n",
       "    <tr>\n",
       "      <th>reviews.rating</th>\n",
       "      <td>NaN</td>\n",
       "      <td>-0.043720</td>\n",
       "      <td>1.000000</td>\n",
       "      <td>NaN</td>\n",
       "      <td>NaN</td>\n",
       "      <td>0.767568</td>\n",
       "    </tr>\n",
       "    <tr>\n",
       "      <th>reviews.userCity</th>\n",
       "      <td>NaN</td>\n",
       "      <td>NaN</td>\n",
       "      <td>NaN</td>\n",
       "      <td>NaN</td>\n",
       "      <td>NaN</td>\n",
       "      <td>NaN</td>\n",
       "    </tr>\n",
       "    <tr>\n",
       "      <th>reviews.userProvince</th>\n",
       "      <td>NaN</td>\n",
       "      <td>NaN</td>\n",
       "      <td>NaN</td>\n",
       "      <td>NaN</td>\n",
       "      <td>NaN</td>\n",
       "      <td>NaN</td>\n",
       "    </tr>\n",
       "    <tr>\n",
       "      <th>sentiment_score</th>\n",
       "      <td>NaN</td>\n",
       "      <td>-0.041311</td>\n",
       "      <td>0.767568</td>\n",
       "      <td>NaN</td>\n",
       "      <td>NaN</td>\n",
       "      <td>1.000000</td>\n",
       "    </tr>\n",
       "  </tbody>\n",
       "</table>\n",
       "</div>"
      ],
      "text/plain": [
       "                      reviews.id  reviews.numHelpful  reviews.rating  \\\n",
       "reviews.id                   NaN                 NaN             NaN   \n",
       "reviews.numHelpful           NaN            1.000000       -0.043720   \n",
       "reviews.rating               NaN           -0.043720        1.000000   \n",
       "reviews.userCity             NaN                 NaN             NaN   \n",
       "reviews.userProvince         NaN                 NaN             NaN   \n",
       "sentiment_score              NaN           -0.041311        0.767568   \n",
       "\n",
       "                      reviews.userCity  reviews.userProvince  sentiment_score  \n",
       "reviews.id                         NaN                   NaN              NaN  \n",
       "reviews.numHelpful                 NaN                   NaN        -0.041311  \n",
       "reviews.rating                     NaN                   NaN         0.767568  \n",
       "reviews.userCity                   NaN                   NaN              NaN  \n",
       "reviews.userProvince               NaN                   NaN              NaN  \n",
       "sentiment_score                    NaN                   NaN         1.000000  "
      ]
     },
     "execution_count": 27,
     "metadata": {},
     "output_type": "execute_result"
    }
   ],
   "source": [
    "corr_matrix = reviews.corr()\n",
    "corr_matrix\n",
    "# Here we can analyze reviews.ratings with asins"
   ]
  },
  {
   "cell_type": "code",
   "execution_count": null,
   "id": "f5974b86",
   "metadata": {
    "execution": {
     "iopub.execute_input": "2022-04-15T14:08:27.981614Z",
     "iopub.status.busy": "2022-04-15T14:08:27.980936Z",
     "iopub.status.idle": "2022-04-15T14:08:27.991504Z",
     "shell.execute_reply": "2022-04-15T14:08:27.990761Z"
    },
    "papermill": {
     "duration": 0.080121,
     "end_time": "2022-04-15T14:08:27.993332",
     "exception": false,
     "start_time": "2022-04-15T14:08:27.913211",
     "status": "completed"
    },
    "tags": []
   },
   "outputs": [
    {
     "data": {
      "text/html": [
       "<div>\n",
       "<style scoped>\n",
       "    .dataframe tbody tr th:only-of-type {\n",
       "        vertical-align: middle;\n",
       "    }\n",
       "\n",
       "    .dataframe tbody tr th {\n",
       "        vertical-align: top;\n",
       "    }\n",
       "\n",
       "    .dataframe thead th {\n",
       "        text-align: right;\n",
       "    }\n",
       "</style>\n",
       "<table border=\"1\" class=\"dataframe\">\n",
       "  <thead>\n",
       "    <tr style=\"text-align: right;\">\n",
       "      <th></th>\n",
       "      <th>asins</th>\n",
       "    </tr>\n",
       "  </thead>\n",
       "  <tbody>\n",
       "    <tr>\n",
       "      <th>B018Y229OU</th>\n",
       "      <td>8772</td>\n",
       "    </tr>\n",
       "    <tr>\n",
       "      <th>B00L9EPT8O,B01E6AO69U</th>\n",
       "      <td>5304</td>\n",
       "    </tr>\n",
       "    <tr>\n",
       "      <th>B00U3FPN4U</th>\n",
       "      <td>4076</td>\n",
       "    </tr>\n",
       "    <tr>\n",
       "      <th>B00OQVZDJM</th>\n",
       "      <td>2525</td>\n",
       "    </tr>\n",
       "    <tr>\n",
       "      <th>B01AHB9CN2</th>\n",
       "      <td>2241</td>\n",
       "    </tr>\n",
       "  </tbody>\n",
       "</table>\n",
       "</div>"
      ],
      "text/plain": [
       "                       asins\n",
       "B018Y229OU              8772\n",
       "B00L9EPT8O,B01E6AO69U   5304\n",
       "B00U3FPN4U              4076\n",
       "B00OQVZDJM              2525\n",
       "B01AHB9CN2              2241"
      ]
     },
     "execution_count": 28,
     "metadata": {},
     "output_type": "execute_result"
    }
   ],
   "source": [
    "counts = reviews[\"asins\"].value_counts().to_frame()\n",
    "counts.head()"
   ]
  },
  {
   "cell_type": "code",
   "execution_count": null,
   "id": "75f25ed7",
   "metadata": {
    "execution": {
     "iopub.execute_input": "2022-04-15T14:08:28.131022Z",
     "iopub.status.busy": "2022-04-15T14:08:28.130292Z",
     "iopub.status.idle": "2022-04-15T14:08:28.143865Z",
     "shell.execute_reply": "2022-04-15T14:08:28.143290Z"
    },
    "papermill": {
     "duration": 0.083126,
     "end_time": "2022-04-15T14:08:28.145636",
     "exception": false,
     "start_time": "2022-04-15T14:08:28.062510",
     "status": "completed"
    },
    "tags": []
   },
   "outputs": [
    {
     "data": {
      "text/html": [
       "<div>\n",
       "<style scoped>\n",
       "    .dataframe tbody tr th:only-of-type {\n",
       "        vertical-align: middle;\n",
       "    }\n",
       "\n",
       "    .dataframe tbody tr th {\n",
       "        vertical-align: top;\n",
       "    }\n",
       "\n",
       "    .dataframe thead th {\n",
       "        text-align: right;\n",
       "    }\n",
       "</style>\n",
       "<table border=\"1\" class=\"dataframe\">\n",
       "  <thead>\n",
       "    <tr style=\"text-align: right;\">\n",
       "      <th></th>\n",
       "      <th>reviews.rating</th>\n",
       "    </tr>\n",
       "    <tr>\n",
       "      <th>asins</th>\n",
       "      <th></th>\n",
       "    </tr>\n",
       "  </thead>\n",
       "  <tbody>\n",
       "    <tr>\n",
       "      <th>B005PB2T0S</th>\n",
       "      <td>4.000000</td>\n",
       "    </tr>\n",
       "    <tr>\n",
       "      <th>B005PB2T2Q</th>\n",
       "      <td>3.400000</td>\n",
       "    </tr>\n",
       "    <tr>\n",
       "      <th>B00IOY8XWQ</th>\n",
       "      <td>4.731183</td>\n",
       "    </tr>\n",
       "    <tr>\n",
       "      <th>B00IOYAM4I</th>\n",
       "      <td>4.900000</td>\n",
       "    </tr>\n",
       "    <tr>\n",
       "      <th>B00L9EPT8O,B01E6AO69U</th>\n",
       "      <td>4.663462</td>\n",
       "    </tr>\n",
       "  </tbody>\n",
       "</table>\n",
       "</div>"
      ],
      "text/plain": [
       "                       reviews.rating\n",
       "asins                                \n",
       "B005PB2T0S                   4.000000\n",
       "B005PB2T2Q                   3.400000\n",
       "B00IOY8XWQ                   4.731183\n",
       "B00IOYAM4I                   4.900000\n",
       "B00L9EPT8O,B01E6AO69U        4.663462"
      ]
     },
     "execution_count": 29,
     "metadata": {},
     "output_type": "execute_result"
    }
   ],
   "source": [
    "avg_rating = reviews.groupby(\"asins\")[\"reviews.rating\"].mean().to_frame()\n",
    "avg_rating.head()"
   ]
  },
  {
   "cell_type": "code",
   "execution_count": null,
   "id": "409a8abe",
   "metadata": {
    "execution": {
     "iopub.execute_input": "2022-04-15T14:08:28.279360Z",
     "iopub.status.busy": "2022-04-15T14:08:28.278645Z",
     "iopub.status.idle": "2022-04-15T14:08:28.296121Z",
     "shell.execute_reply": "2022-04-15T14:08:28.295501Z"
    },
    "papermill": {
     "duration": 0.08692,
     "end_time": "2022-04-15T14:08:28.298287",
     "exception": false,
     "start_time": "2022-04-15T14:08:28.211367",
     "status": "completed"
    },
    "tags": []
   },
   "outputs": [
    {
     "data": {
      "text/html": [
       "<div>\n",
       "<style scoped>\n",
       "    .dataframe tbody tr th:only-of-type {\n",
       "        vertical-align: middle;\n",
       "    }\n",
       "\n",
       "    .dataframe tbody tr th {\n",
       "        vertical-align: top;\n",
       "    }\n",
       "\n",
       "    .dataframe thead th {\n",
       "        text-align: right;\n",
       "    }\n",
       "</style>\n",
       "<table border=\"1\" class=\"dataframe\">\n",
       "  <thead>\n",
       "    <tr style=\"text-align: right;\">\n",
       "      <th></th>\n",
       "      <th>asins</th>\n",
       "      <th>reviews.rating</th>\n",
       "    </tr>\n",
       "  </thead>\n",
       "  <tbody>\n",
       "    <tr>\n",
       "      <th>B018Y229OU</th>\n",
       "      <td>8772</td>\n",
       "      <td>4.453032</td>\n",
       "    </tr>\n",
       "    <tr>\n",
       "      <th>B00L9EPT8O,B01E6AO69U</th>\n",
       "      <td>5304</td>\n",
       "      <td>4.663462</td>\n",
       "    </tr>\n",
       "    <tr>\n",
       "      <th>B00U3FPN4U</th>\n",
       "      <td>4076</td>\n",
       "      <td>4.709028</td>\n",
       "    </tr>\n",
       "    <tr>\n",
       "      <th>B00OQVZDJM</th>\n",
       "      <td>2525</td>\n",
       "      <td>4.774653</td>\n",
       "    </tr>\n",
       "    <tr>\n",
       "      <th>B01AHB9CN2</th>\n",
       "      <td>2241</td>\n",
       "      <td>4.586792</td>\n",
       "    </tr>\n",
       "    <tr>\n",
       "      <th>B018Y23MNM</th>\n",
       "      <td>1346</td>\n",
       "      <td>4.511887</td>\n",
       "    </tr>\n",
       "    <tr>\n",
       "      <th>B018Y225IA</th>\n",
       "      <td>811</td>\n",
       "      <td>4.498150</td>\n",
       "    </tr>\n",
       "    <tr>\n",
       "      <th>B01BH83OOM</th>\n",
       "      <td>504</td>\n",
       "      <td>4.539683</td>\n",
       "    </tr>\n",
       "    <tr>\n",
       "      <th>B00IOY8XWQ</th>\n",
       "      <td>465</td>\n",
       "      <td>4.731183</td>\n",
       "    </tr>\n",
       "    <tr>\n",
       "      <th>B01J2G4VBG</th>\n",
       "      <td>322</td>\n",
       "      <td>4.422360</td>\n",
       "    </tr>\n",
       "    <tr>\n",
       "      <th>B00TSUGXKE</th>\n",
       "      <td>300</td>\n",
       "      <td>4.456667</td>\n",
       "    </tr>\n",
       "    <tr>\n",
       "      <th>B018SZT3BK</th>\n",
       "      <td>217</td>\n",
       "      <td>4.557604</td>\n",
       "    </tr>\n",
       "    <tr>\n",
       "      <th>B0189XYY0Q</th>\n",
       "      <td>208</td>\n",
       "      <td>4.557692</td>\n",
       "    </tr>\n",
       "    <tr>\n",
       "      <th>B00ZV9PXP2</th>\n",
       "      <td>178</td>\n",
       "      <td>4.516854</td>\n",
       "    </tr>\n",
       "    <tr>\n",
       "      <th>B01AHB9CYG</th>\n",
       "      <td>132</td>\n",
       "      <td>4.628788</td>\n",
       "    </tr>\n",
       "    <tr>\n",
       "      <th>B00QFQRELG</th>\n",
       "      <td>54</td>\n",
       "      <td>4.277778</td>\n",
       "    </tr>\n",
       "    <tr>\n",
       "      <th>B00VINDBJK</th>\n",
       "      <td>48</td>\n",
       "      <td>4.645833</td>\n",
       "    </tr>\n",
       "    <tr>\n",
       "      <th>B00IOYAM4I</th>\n",
       "      <td>40</td>\n",
       "      <td>4.900000</td>\n",
       "    </tr>\n",
       "    <tr>\n",
       "      <th>B01BFIBRIE</th>\n",
       "      <td>20</td>\n",
       "      <td>4.700000</td>\n",
       "    </tr>\n",
       "    <tr>\n",
       "      <th>B00QL1ZN3G</th>\n",
       "      <td>15</td>\n",
       "      <td>3.066667</td>\n",
       "    </tr>\n",
       "    <tr>\n",
       "      <th>B01AHB9C1E</th>\n",
       "      <td>13</td>\n",
       "      <td>4.461538</td>\n",
       "    </tr>\n",
       "    <tr>\n",
       "      <th>B01J4ORNHU</th>\n",
       "      <td>12</td>\n",
       "      <td>4.500000</td>\n",
       "    </tr>\n",
       "    <tr>\n",
       "      <th>B00QJDU3KY</th>\n",
       "      <td>10</td>\n",
       "      <td>4.600000</td>\n",
       "    </tr>\n",
       "    <tr>\n",
       "      <th>B00LW9XOJM</th>\n",
       "      <td>10</td>\n",
       "      <td>4.200000</td>\n",
       "    </tr>\n",
       "    <tr>\n",
       "      <th>B018Y22BI4</th>\n",
       "      <td>9</td>\n",
       "      <td>4.666667</td>\n",
       "    </tr>\n",
       "    <tr>\n",
       "      <th>B00X4WHP5E</th>\n",
       "      <td>7</td>\n",
       "      <td>4.285714</td>\n",
       "    </tr>\n",
       "    <tr>\n",
       "      <th>B00UH4D8G2</th>\n",
       "      <td>7</td>\n",
       "      <td>3.428571</td>\n",
       "    </tr>\n",
       "    <tr>\n",
       "      <th>B018Y22C2Y</th>\n",
       "      <td>5</td>\n",
       "      <td>4.800000</td>\n",
       "    </tr>\n",
       "    <tr>\n",
       "      <th>B005PB2T2Q</th>\n",
       "      <td>5</td>\n",
       "      <td>3.400000</td>\n",
       "    </tr>\n",
       "    <tr>\n",
       "      <th>B005PB2T0S</th>\n",
       "      <td>4</td>\n",
       "      <td>4.000000</td>\n",
       "    </tr>\n",
       "  </tbody>\n",
       "</table>\n",
       "</div>"
      ],
      "text/plain": [
       "                       asins  reviews.rating\n",
       "B018Y229OU              8772        4.453032\n",
       "B00L9EPT8O,B01E6AO69U   5304        4.663462\n",
       "B00U3FPN4U              4076        4.709028\n",
       "B00OQVZDJM              2525        4.774653\n",
       "B01AHB9CN2              2241        4.586792\n",
       "B018Y23MNM              1346        4.511887\n",
       "B018Y225IA               811        4.498150\n",
       "B01BH83OOM               504        4.539683\n",
       "B00IOY8XWQ               465        4.731183\n",
       "B01J2G4VBG               322        4.422360\n",
       "B00TSUGXKE               300        4.456667\n",
       "B018SZT3BK               217        4.557604\n",
       "B0189XYY0Q               208        4.557692\n",
       "B00ZV9PXP2               178        4.516854\n",
       "B01AHB9CYG               132        4.628788\n",
       "B00QFQRELG                54        4.277778\n",
       "B00VINDBJK                48        4.645833\n",
       "B00IOYAM4I                40        4.900000\n",
       "B01BFIBRIE                20        4.700000\n",
       "B00QL1ZN3G                15        3.066667\n",
       "B01AHB9C1E                13        4.461538\n",
       "B01J4ORNHU                12        4.500000\n",
       "B00QJDU3KY                10        4.600000\n",
       "B00LW9XOJM                10        4.200000\n",
       "B018Y22BI4                 9        4.666667\n",
       "B00X4WHP5E                 7        4.285714\n",
       "B00UH4D8G2                 7        3.428571\n",
       "B018Y22C2Y                 5        4.800000\n",
       "B005PB2T2Q                 5        3.400000\n",
       "B005PB2T0S                 4        4.000000"
      ]
     },
     "execution_count": 30,
     "metadata": {},
     "output_type": "execute_result"
    }
   ],
   "source": [
    "table = counts.join(avg_rating)\n",
    "table.head(30)"
   ]
  },
  {
   "cell_type": "code",
   "execution_count": null,
   "id": "e9419df9",
   "metadata": {
    "execution": {
     "iopub.execute_input": "2022-04-15T14:08:28.433753Z",
     "iopub.status.busy": "2022-04-15T14:08:28.432982Z",
     "iopub.status.idle": "2022-04-15T14:08:28.627621Z",
     "shell.execute_reply": "2022-04-15T14:08:28.626931Z"
    },
    "papermill": {
     "duration": 0.264377,
     "end_time": "2022-04-15T14:08:28.629528",
     "exception": false,
     "start_time": "2022-04-15T14:08:28.365151",
     "status": "completed"
    },
    "tags": []
   },
   "outputs": [
    {
     "data": {
      "text/html": [
       "<div>\n",
       "<style scoped>\n",
       "    .dataframe tbody tr th:only-of-type {\n",
       "        vertical-align: middle;\n",
       "    }\n",
       "\n",
       "    .dataframe tbody tr th {\n",
       "        vertical-align: top;\n",
       "    }\n",
       "\n",
       "    .dataframe thead th {\n",
       "        text-align: right;\n",
       "    }\n",
       "</style>\n",
       "<table border=\"1\" class=\"dataframe\">\n",
       "  <thead>\n",
       "    <tr style=\"text-align: right;\">\n",
       "      <th></th>\n",
       "      <th>asins</th>\n",
       "      <th>reviews.rating</th>\n",
       "    </tr>\n",
       "  </thead>\n",
       "  <tbody>\n",
       "    <tr>\n",
       "      <th>asins</th>\n",
       "      <td>1.000000</td>\n",
       "      <td>0.099791</td>\n",
       "    </tr>\n",
       "    <tr>\n",
       "      <th>reviews.rating</th>\n",
       "      <td>0.099791</td>\n",
       "      <td>1.000000</td>\n",
       "    </tr>\n",
       "  </tbody>\n",
       "</table>\n",
       "</div>"
      ],
      "text/plain": [
       "                   asins  reviews.rating\n",
       "asins           1.000000        0.099791\n",
       "reviews.rating  0.099791        1.000000"
      ]
     },
     "execution_count": 31,
     "metadata": {},
     "output_type": "execute_result"
    },
    {
     "data": {
      "image/png": "[encoded data removed]",
      "text/plain": [
       "<Figure size 432x288 with 1 Axes>"
      ]
     },
     "metadata": {
      "needs_background": "light"
     },
     "output_type": "display_data"
    }
   ],
   "source": [
    "plt.scatter(\"asins\", \"reviews.rating\", data=table)\n",
    "table.corr()"
   ]
  },
  {
   "cell_type": "markdown",
   "id": "397e159a",
   "metadata": {
    "papermill": {
     "duration": 0.067532,
     "end_time": "2022-04-15T14:08:28.764689",
     "exception": false,
     "start_time": "2022-04-15T14:08:28.697157",
     "status": "completed"
    },
    "tags": []
   },
   "source": [
    "#  Sentiment Analysis"
   ]
  },
  {
   "cell_type": "code",
   "execution_count": null,
   "id": "18d004e9",
   "metadata": {
    "execution": {
     "iopub.execute_input": "2022-04-15T14:08:28.901882Z",
     "iopub.status.busy": "2022-04-15T14:08:28.901320Z",
     "iopub.status.idle": "2022-04-15T14:08:28.921070Z",
     "shell.execute_reply": "2022-04-15T14:08:28.920429Z"
    },
    "papermill": {
     "duration": 0.090949,
     "end_time": "2022-04-15T14:08:28.923262",
     "exception": false,
     "start_time": "2022-04-15T14:08:28.832313",
     "status": "completed"
    },
    "tags": []
   },
   "outputs": [
    {
     "data": {
      "text/plain": [
       "4349     Positive\n",
       "30776    Positive\n",
       "28775     Neutral\n",
       "1136     Positive\n",
       "17803    Positive\n",
       "7336     Positive\n",
       "32638    Positive\n",
       "13995    Positive\n",
       "6728     Negative\n",
       "22009    Positive\n",
       "11047    Positive\n",
       "22754    Positive\n",
       "5578     Positive\n",
       "11673    Positive\n",
       "19168    Positive\n",
       "14903    Positive\n",
       "30843    Positive\n",
       "5440     Positive\n",
       "28940    Positive\n",
       "31258    Positive\n",
       "Name: Sentiment, dtype: object"
      ]
     },
     "execution_count": 32,
     "metadata": {},
     "output_type": "execute_result"
    }
   ],
   "source": [
    "def sentiments(rating):\n",
    "    if (rating == 5) or (rating == 4):\n",
    "        return \"Positive\"\n",
    "    elif rating == 3:\n",
    "        return \"Neutral\"\n",
    "    elif (rating == 2) or (rating == 1):\n",
    "        return \"Negative\"\n",
    "# Add sentiments to the data\n",
    "strat_train[\"Sentiment\"] = strat_train[\"reviews.rating\"].apply(sentiments)\n",
    "strat_test[\"Sentiment\"] = strat_test[\"reviews.rating\"].apply(sentiments)\n",
    "strat_train[\"Sentiment\"][:20]"
   ]
  },
  {
   "cell_type": "markdown",
   "id": "436d96ed",
   "metadata": {
    "papermill": {
     "duration": 0.071488,
     "end_time": "2022-04-15T14:08:29.064478",
     "exception": false,
     "start_time": "2022-04-15T14:08:28.992990",
     "status": "completed"
    },
    "tags": []
   },
   "source": [
    "# Prepare data\n"
   ]
  },
  {
   "cell_type": "code",
   "execution_count": null,
   "id": "ecfeaf16",
   "metadata": {
    "execution": {
     "iopub.execute_input": "2022-04-15T14:08:29.202736Z",
     "iopub.status.busy": "2022-04-15T14:08:29.202383Z",
     "iopub.status.idle": "2022-04-15T14:08:29.208522Z",
     "shell.execute_reply": "2022-04-15T14:08:29.207640Z"
    },
    "papermill": {
     "duration": 0.07698,
     "end_time": "2022-04-15T14:08:29.210507",
     "exception": false,
     "start_time": "2022-04-15T14:08:29.133527",
     "status": "completed"
    },
    "tags": []
   },
   "outputs": [
    {
     "name": "stdout",
     "output_type": "stream",
     "text": [
      "27701 6926\n"
     ]
    }
   ],
   "source": [
    "X_train = strat_train[\"reviews.text\"]\n",
    "X_train_targetSentiment = strat_train[\"Sentiment\"]\n",
    "X_test = strat_test[\"reviews.text\"]\n",
    "X_test_targetSentiment = strat_test[\"Sentiment\"]\n",
    "print(len(X_train), len(X_test))"
   ]
  },
  {
   "cell_type": "markdown",
   "id": "5a1760aa",
   "metadata": {
    "papermill": {
     "duration": 0.069487,
     "end_time": "2022-04-15T14:08:29.349028",
     "exception": false,
     "start_time": "2022-04-15T14:08:29.279541",
     "status": "completed"
    },
    "tags": []
   },
   "source": [
    "# Feature Extraction"
   ]
  },
  {
   "cell_type": "code",
   "execution_count": null,
   "id": "c08d1d38",
   "metadata": {
    "execution": {
     "iopub.execute_input": "2022-04-15T14:08:29.489470Z",
     "iopub.status.busy": "2022-04-15T14:08:29.488905Z",
     "iopub.status.idle": "2022-04-15T14:08:30.167193Z",
     "shell.execute_reply": "2022-04-15T14:08:30.166352Z"
    },
    "papermill": {
     "duration": 0.750489,
     "end_time": "2022-04-15T14:08:30.169190",
     "exception": false,
     "start_time": "2022-04-15T14:08:29.418701",
     "status": "completed"
    },
    "tags": []
   },
   "outputs": [
    {
     "data": {
      "text/plain": [
       "(27701, 12526)"
      ]
     },
     "execution_count": 34,
     "metadata": {},
     "output_type": "execute_result"
    }
   ],
   "source": [
    "# Replace \"nan\" with space\n",
    "X_train = X_train.fillna(' ')\n",
    "X_test = X_test.fillna(' ')\n",
    "X_train_targetSentiment = X_train_targetSentiment.fillna(' ')\n",
    "X_test_targetSentiment = X_test_targetSentiment.fillna(' ')\n",
    "\n",
    "# Text preprocessing and occurance counting\n",
    "from sklearn.feature_extraction.text import CountVectorizer \n",
    "count_vect = CountVectorizer()\n",
    "X_train_counts = count_vect.fit_transform(X_train) \n",
    "X_train_counts.shape"
   ]
  },
  {
   "cell_type": "code",
   "execution_count": null,
   "id": "269adc76",
   "metadata": {
    "execution": {
     "iopub.execute_input": "2022-04-15T14:08:30.309016Z",
     "iopub.status.busy": "2022-04-15T14:08:30.308308Z",
     "iopub.status.idle": "2022-04-15T14:08:30.350511Z",
     "shell.execute_reply": "2022-04-15T14:08:30.349733Z"
    },
    "papermill": {
     "duration": 0.11466,
     "end_time": "2022-04-15T14:08:30.352871",
     "exception": false,
     "start_time": "2022-04-15T14:08:30.238211",
     "status": "completed"
    },
    "tags": []
   },
   "outputs": [
    {
     "data": {
      "text/plain": [
       "(27701, 12526)"
      ]
     },
     "execution_count": 35,
     "metadata": {},
     "output_type": "execute_result"
    }
   ],
   "source": [
    "from sklearn.feature_extraction.text import TfidfTransformer\n",
    "tfidf_transformer = TfidfTransformer(use_idf=False)\n",
    "X_train_tfidf = tfidf_transformer.fit_transform(X_train_counts)\n",
    "X_train_tfidf.shape"
   ]
  },
  {
   "cell_type": "markdown",
   "id": "0cf85649",
   "metadata": {
    "papermill": {
     "duration": 0.069333,
     "end_time": "2022-04-15T14:08:30.492188",
     "exception": false,
     "start_time": "2022-04-15T14:08:30.422855",
     "status": "completed"
    },
    "tags": []
   },
   "source": [
    "# Building a Pipeline from the Extracted Features"
   ]
  },
  {
   "cell_type": "markdown",
   "id": "61bb20eb",
   "metadata": {
    "papermill": {
     "duration": 0.069331,
     "end_time": "2022-04-15T14:08:30.630902",
     "exception": false,
     "start_time": "2022-04-15T14:08:30.561571",
     "status": "completed"
    },
    "tags": []
   },
   "source": [
    "# Multinominal Naive Bayes"
   ]
  },
  {
   "cell_type": "code",
   "execution_count": null,
   "id": "4e954c80",
   "metadata": {
    "execution": {
     "iopub.execute_input": "2022-04-15T14:08:30.771013Z",
     "iopub.status.busy": "2022-04-15T14:08:30.770744Z",
     "iopub.status.idle": "2022-04-15T14:08:31.751379Z",
     "shell.execute_reply": "2022-04-15T14:08:31.750403Z"
    },
    "papermill": {
     "duration": 1.053504,
     "end_time": "2022-04-15T14:08:31.753548",
     "exception": false,
     "start_time": "2022-04-15T14:08:30.700044",
     "status": "completed"
    },
    "tags": []
   },
   "outputs": [
    {
     "data": {
      "text/plain": [
       "93.44498989315623"
      ]
     },
     "execution_count": 36,
     "metadata": {},
     "output_type": "execute_result"
    }
   ],
   "source": [
    "from sklearn.naive_bayes import MultinomialNB\n",
    "from sklearn.pipeline import Pipeline\n",
    "clf_multiNB_pipe = Pipeline([(\"vect\", CountVectorizer()), \n",
    "                             (\"tfidf\", TfidfTransformer()),\n",
    "                             (\"clf_nominalNB\", MultinomialNB())])\n",
    "clf_multiNB_pipe.fit(X_train, X_train_targetSentiment)\n",
    " \n",
    "import numpy as np\n",
    "predictedMultiNB = clf_multiNB_pipe.predict(X_test)\n",
    "mnb=np.mean(predictedMultiNB == X_test_targetSentiment)\n",
    "mnb*100"
   ]
  },
  {
   "cell_type": "markdown",
   "id": "ef820d1a",
   "metadata": {
    "papermill": {
     "duration": 0.069734,
     "end_time": "2022-04-15T14:08:31.895615",
     "exception": false,
     "start_time": "2022-04-15T14:08:31.825881",
     "status": "completed"
    },
    "tags": []
   },
   "source": [
    "# Logistic Regression Classifier"
   ]
  },
  {
   "cell_type": "code",
   "execution_count": null,
   "id": "db58a31a",
   "metadata": {
    "execution": {
     "iopub.execute_input": "2022-04-15T14:08:32.039640Z",
     "iopub.status.busy": "2022-04-15T14:08:32.039333Z",
     "iopub.status.idle": "2022-04-15T14:08:41.145077Z",
     "shell.execute_reply": "2022-04-15T14:08:41.144019Z"
    },
    "papermill": {
     "duration": 9.181569,
     "end_time": "2022-04-15T14:08:41.147510",
     "exception": false,
     "start_time": "2022-04-15T14:08:31.965941",
     "status": "completed"
    },
    "tags": []
   },
   "outputs": [
    {
     "data": {
      "text/plain": [
       "93.92145538550389"
      ]
     },
     "execution_count": 37,
     "metadata": {},
     "output_type": "execute_result"
    }
   ],
   "source": [
    "from sklearn.linear_model import LogisticRegression\n",
    "from sklearn.pipeline import Pipeline\n",
    "clf_logReg_pipe = Pipeline([(\"vect\", CountVectorizer()), \n",
    "                            (\"tfidf\", TfidfTransformer()), \n",
    "                            (\"clf_logReg\", LogisticRegression())])\n",
    "clf_logReg_pipe.fit(X_train, X_train_targetSentiment)\n",
    "\n",
    "import numpy as np\n",
    "predictedLogReg = clf_logReg_pipe.predict(X_test)\n",
    "lrc=np.mean(predictedLogReg == X_test_targetSentiment)\n",
    "lrc*100"
   ]
  },
  {
   "cell_type": "markdown",
   "id": "7e0faea8",
   "metadata": {
    "papermill": {
     "duration": 0.078178,
     "end_time": "2022-04-15T14:08:41.308471",
     "exception": false,
     "start_time": "2022-04-15T14:08:41.230293",
     "status": "completed"
    },
    "tags": []
   },
   "source": [
    "# Support Vector Machine Classifier"
   ]
  },
  {
   "cell_type": "code",
   "execution_count": null,
   "id": "3f881594",
   "metadata": {
    "execution": {
     "iopub.execute_input": "2022-04-15T14:08:41.463483Z",
     "iopub.status.busy": "2022-04-15T14:08:41.463178Z",
     "iopub.status.idle": "2022-04-15T14:08:42.834299Z",
     "shell.execute_reply": "2022-04-15T14:08:42.833469Z"
    },
    "papermill": {
     "duration": 1.451163,
     "end_time": "2022-04-15T14:08:42.836489",
     "exception": false,
     "start_time": "2022-04-15T14:08:41.385326",
     "status": "completed"
    },
    "tags": []
   },
   "outputs": [
    {
     "data": {
      "text/plain": [
       "93.93589373375686"
      ]
     },
     "execution_count": 38,
     "metadata": {},
     "output_type": "execute_result"
    }
   ],
   "source": [
    "from sklearn.svm import LinearSVC\n",
    "clf_linearSVC_pipe = Pipeline([(\"vect\", CountVectorizer()), \n",
    "                               (\"tfidf\", TfidfTransformer()),\n",
    "                               (\"clf_linearSVC\", LinearSVC())])\n",
    "clf_linearSVC_pipe.fit(X_train, X_train_targetSentiment)\n",
    "\n",
    "predictedLinearSVC = clf_linearSVC_pipe.predict(X_test)\n",
    "svmc=np.mean(predictedLinearSVC == X_test_targetSentiment)\n",
    "svmc*100"
   ]
  },
  {
   "cell_type": "markdown",
   "id": "de0830d0",
   "metadata": {
    "papermill": {
     "duration": 0.076602,
     "end_time": "2022-04-15T14:08:42.989830",
     "exception": false,
     "start_time": "2022-04-15T14:08:42.913228",
     "status": "completed"
    },
    "tags": []
   },
   "source": [
    "# Decision Tree Classifier\n"
   ]
  },
  {
   "cell_type": "code",
   "execution_count": null,
   "id": "e4846842",
   "metadata": {
    "execution": {
     "iopub.execute_input": "2022-04-15T14:08:43.136141Z",
     "iopub.status.busy": "2022-04-15T14:08:43.135628Z",
     "iopub.status.idle": "2022-04-15T14:08:59.019314Z",
     "shell.execute_reply": "2022-04-15T14:08:59.018666Z"
    },
    "papermill": {
     "duration": 15.960378,
     "end_time": "2022-04-15T14:08:59.021524",
     "exception": false,
     "start_time": "2022-04-15T14:08:43.061146",
     "status": "completed"
    },
    "tags": []
   },
   "outputs": [
    {
     "data": {
      "text/plain": [
       "90.16748483973433"
      ]
     },
     "execution_count": 39,
     "metadata": {},
     "output_type": "execute_result"
    }
   ],
   "source": [
    "from sklearn.tree import DecisionTreeClassifier\n",
    "clf_decisionTree_pipe = Pipeline([(\"vect\", CountVectorizer()), \n",
    "                                  (\"tfidf\", TfidfTransformer()), \n",
    "                                  (\"clf_decisionTree\", DecisionTreeClassifier())\n",
    "                                 ])\n",
    "clf_decisionTree_pipe.fit(X_train, X_train_targetSentiment)\n",
    "\n",
    "predictedDecisionTree = clf_decisionTree_pipe.predict(X_test)\n",
    "dtc=np.mean(predictedDecisionTree == X_test_targetSentiment)\n",
    "dtc*100"
   ]
  },
  {
   "cell_type": "markdown",
   "id": "fb3da4ec",
   "metadata": {
    "papermill": {
     "duration": 0.073984,
     "end_time": "2022-04-15T14:08:59.168957",
     "exception": false,
     "start_time": "2022-04-15T14:08:59.094973",
     "status": "completed"
    },
    "tags": []
   },
   "source": [
    "# Random Forest Classifier"
   ]
  },
  {
   "cell_type": "code",
   "execution_count": null,
   "id": "fe9f5107",
   "metadata": {
    "execution": {
     "iopub.execute_input": "2022-04-15T14:08:59.314296Z",
     "iopub.status.busy": "2022-04-15T14:08:59.313758Z",
     "iopub.status.idle": "2022-04-15T14:09:20.139596Z",
     "shell.execute_reply": "2022-04-15T14:09:20.138653Z"
    },
    "papermill": {
     "duration": 20.900974,
     "end_time": "2022-04-15T14:09:20.141792",
     "exception": false,
     "start_time": "2022-04-15T14:08:59.240818",
     "status": "completed"
    },
    "tags": []
   },
   "outputs": [
    {
     "data": {
      "text/plain": [
       "93.50274328616807"
      ]
     },
     "execution_count": 40,
     "metadata": {},
     "output_type": "execute_result"
    }
   ],
   "source": [
    "from sklearn.ensemble import RandomForestClassifier\n",
    "clf_randomForest_pipe = Pipeline([(\"vect\", CountVectorizer()), \n",
    "                                  (\"tfidf\", TfidfTransformer()), \n",
    "                                  (\"clf_randomForest\", RandomForestClassifier())\n",
    "                                 ])\n",
    "clf_randomForest_pipe.fit(X_train, X_train_targetSentiment)\n",
    "\n",
    "predictedRandomForest = clf_randomForest_pipe.predict(X_test)\n",
    "rfc=np.mean(predictedRandomForest == X_test_targetSentiment)\n",
    "rfc*100"
   ]
  },
  {
   "cell_type": "markdown",
   "id": "196fc309",
   "metadata": {
    "papermill": {
     "duration": 0.072137,
     "end_time": "2022-04-15T14:09:20.286619",
     "exception": false,
     "start_time": "2022-04-15T14:09:20.214482",
     "status": "completed"
    },
    "tags": []
   },
   "source": [
    "# Performance Analysis of Support Vector Machine Classifier"
   ]
  },
  {
   "cell_type": "code",
   "execution_count": null,
   "id": "a84efd7c",
   "metadata": {
    "execution": {
     "iopub.execute_input": "2022-04-15T14:09:20.433579Z",
     "iopub.status.busy": "2022-04-15T14:09:20.433136Z",
     "iopub.status.idle": "2022-04-15T14:09:43.697916Z",
     "shell.execute_reply": "2022-04-15T14:09:43.696972Z"
    },
    "papermill": {
     "duration": 23.341424,
     "end_time": "2022-04-15T14:09:43.700422",
     "exception": false,
     "start_time": "2022-04-15T14:09:20.358998",
     "status": "completed"
    },
    "tags": []
   },
   "outputs": [],
   "source": [
    "from sklearn.model_selection import GridSearchCV\n",
    "parameters = {'vect__ngram_range': [(1, 1), (1, 2)],    \n",
    "             'tfidf__use_idf': (True, False), \n",
    "             } \n",
    "gs_clf_LinearSVC_pipe = GridSearchCV(clf_linearSVC_pipe, parameters, n_jobs=-1)\n",
    "gs_clf_LinearSVC_pipe = gs_clf_LinearSVC_pipe.fit(X_train, \n",
    "                                                  X_train_targetSentiment)\n",
    "# new_text = [\"The tablet is good, really liked it.\", # positive\n",
    "#             \"The tablet is ok, but it works fine.\", # neutral\n",
    "#             \"The tablet is not good, does not work very well.\"] # negative\n",
    "\n",
    "# X_train_targetSentiment[gs_clf_LinearSVC_pipe.predict(new_text)]"
   ]
  },
  {
   "cell_type": "code",
   "execution_count": null,
   "id": "daa100b2",
   "metadata": {
    "execution": {
     "iopub.execute_input": "2022-04-15T14:09:43.850127Z",
     "iopub.status.busy": "2022-04-15T14:09:43.849837Z",
     "iopub.status.idle": "2022-04-15T14:09:44.256681Z",
     "shell.execute_reply": "2022-04-15T14:09:44.255860Z"
    },
    "papermill": {
     "duration": 0.4843,
     "end_time": "2022-04-15T14:09:44.258539",
     "exception": false,
     "start_time": "2022-04-15T14:09:43.774239",
     "status": "completed"
    },
    "tags": []
   },
   "outputs": [
    {
     "data": {
      "text/plain": [
       "94.08027721628646"
      ]
     },
     "execution_count": 42,
     "metadata": {},
     "output_type": "execute_result"
    }
   ],
   "source": [
    "predictedGS_clf_LinearSVC_pipe = gs_clf_LinearSVC_pipe.predict(X_test)\n",
    "GSLinearSVC=np.mean(predictedGS_clf_LinearSVC_pipe == X_test_targetSentiment)\n",
    "GSLinearSVC*100"
   ]
  },
  {
   "cell_type": "code",
   "execution_count": null,
   "id": "c03ba190",
   "metadata": {
    "execution": {
     "iopub.execute_input": "2022-04-15T14:09:44.406718Z",
     "iopub.status.busy": "2022-04-15T14:09:44.405987Z",
     "iopub.status.idle": "2022-04-15T14:09:44.415972Z",
     "shell.execute_reply": "2022-04-15T14:09:44.415337Z"
    },
    "papermill": {
     "duration": 0.086803,
     "end_time": "2022-04-15T14:09:44.418652",
     "exception": false,
     "start_time": "2022-04-15T14:09:44.331849",
     "status": "completed"
    },
    "tags": []
   },
   "outputs": [
    {
     "name": "stdout",
     "output_type": "stream",
     "text": [
      "0.9366809937342697\n",
      "Pipeline(steps=[('vect', CountVectorizer(ngram_range=(1, 2))),\n",
      "                ('tfidf', TfidfTransformer()), ('clf_linearSVC', LinearSVC())])\n",
      "{'tfidf__use_idf': True, 'vect__ngram_range': (1, 2)}\n"
     ]
    }
   ],
   "source": [
    "for performance_analysis in (gs_clf_LinearSVC_pipe.best_score_, \n",
    "                             gs_clf_LinearSVC_pipe.best_estimator_, \n",
    "                             gs_clf_LinearSVC_pipe.best_params_):\n",
    "        print(performance_analysis)"
   ]
  },
  {
   "cell_type": "code",
   "execution_count": null,
   "id": "3a00539f",
   "metadata": {
    "execution": {
     "iopub.execute_input": "2022-04-15T14:09:44.568489Z",
     "iopub.status.busy": "2022-04-15T14:09:44.567950Z",
     "iopub.status.idle": "2022-04-15T14:09:44.594475Z",
     "shell.execute_reply": "2022-04-15T14:09:44.593486Z"
    },
    "papermill": {
     "duration": 0.104448,
     "end_time": "2022-04-15T14:09:44.596490",
     "exception": false,
     "start_time": "2022-04-15T14:09:44.492042",
     "status": "completed"
    },
    "tags": []
   },
   "outputs": [
    {
     "data": {
      "text/plain": [
       "array([[   0,    0,    0,    5],\n",
       "       [   0,   39,   13,  104],\n",
       "       [   0,   14,   32,  246],\n",
       "       [   0,    5,   23, 6445]])"
      ]
     },
     "execution_count": 44,
     "metadata": {},
     "output_type": "execute_result"
    }
   ],
   "source": [
    "from sklearn import metrics\n",
    "metrics.confusion_matrix(X_test_targetSentiment,\n",
    "                         predictedGS_clf_LinearSVC_pipe)"
   ]
  },
  {
   "cell_type": "code",
   "execution_count": null,
   "id": "0029bd6e",
   "metadata": {
    "execution": {
     "iopub.execute_input": "2022-04-15T14:09:44.744576Z",
     "iopub.status.busy": "2022-04-15T14:09:44.744121Z",
     "iopub.status.idle": "2022-04-15T14:09:44.954519Z",
     "shell.execute_reply": "2022-04-15T14:09:44.953809Z"
    },
    "papermill": {
     "duration": 0.287402,
     "end_time": "2022-04-15T14:09:44.957421",
     "exception": false,
     "start_time": "2022-04-15T14:09:44.670019",
     "status": "completed"
    },
    "tags": []
   },
   "outputs": [
    {
     "name": "stdout",
     "output_type": "stream",
     "text": [
      "              precision    recall  f1-score   support\n",
      "\n",
      "                   0.00      0.00      0.00         5\n",
      "    Negative       0.67      0.25      0.36       156\n",
      "     Neutral       0.47      0.11      0.18       292\n",
      "    Positive       0.95      1.00      0.97      6473\n",
      "\n",
      "    accuracy                           0.94      6926\n",
      "   macro avg       0.52      0.34      0.38      6926\n",
      "weighted avg       0.92      0.94      0.92      6926\n",
      "\n",
      "Accuracy: 0.9408027721628646\n"
     ]
    }
   ],
   "source": [
    "from sklearn.metrics import classification_report\n",
    "from sklearn.metrics import accuracy_score\n",
    "\n",
    "print(classification_report(X_test_targetSentiment, \n",
    "                            predictedGS_clf_LinearSVC_pipe))\n",
    "print('Accuracy: {}'. format(accuracy_score(X_test_targetSentiment, \n",
    "                             predictedGS_clf_LinearSVC_pipe)))"
   ]
  },
  {
   "cell_type": "markdown",
   "id": "8407deb8",
   "metadata": {
    "papermill": {
     "duration": 0.078922,
     "end_time": "2022-04-15T14:09:45.116297",
     "exception": false,
     "start_time": "2022-04-15T14:09:45.037375",
     "status": "completed"
    },
    "tags": []
   },
   "source": [
    "# Summary"
   ]
  },
  {
   "cell_type": "code",
   "execution_count": null,
   "id": "75994190",
   "metadata": {
    "execution": {
     "iopub.execute_input": "2022-04-15T14:09:45.286335Z",
     "iopub.status.busy": "2022-04-15T14:09:45.285516Z",
     "iopub.status.idle": "2022-04-15T14:09:45.294332Z",
     "shell.execute_reply": "2022-04-15T14:09:45.293493Z"
    },
    "papermill": {
     "duration": 0.08792,
     "end_time": "2022-04-15T14:09:45.296270",
     "exception": false,
     "start_time": "2022-04-15T14:09:45.208350",
     "status": "completed"
    },
    "tags": []
   },
   "outputs": [
    {
     "name": "stdout",
     "output_type": "stream",
     "text": [
      "+-----------------------------------+---------------------------+\n",
      "|             Model Name            | Model Train Accuracy in % |\n",
      "+-----------------------------------+---------------------------+\n",
      "|      Multinominal Naive Bayes     |           93.44           |\n",
      "|   Logistic Regression Classifier  |           93.92           |\n",
      "| Support Vector Machine Classifier |           93.94           |\n",
      "|      Decision Tree Classifier     |           90.17           |\n",
      "|      Random Forest Classifier     |           93.50           |\n",
      "|      GridSearchClf_LinearSVC      |           94.08           |\n",
      "+-----------------------------------+---------------------------+\n"
     ]
    }
   ],
   "source": [
    "from prettytable import PrettyTable\n",
    "Summary = PrettyTable([\"Model Name\", \"Model Train Accuracy in %\"])\n",
    "Summary.add_row([\"Multinominal Naive Bayes\", \"{:.2f}\".format(mnb*100)])\n",
    "Summary.add_row([\"Logistic Regression Classifier\", \"{:.2f}\".format(lrc*100)])\n",
    "Summary.add_row([\"Support Vector Machine Classifier\", \"{:.2f}\".format(svmc*100)])\n",
    "Summary.add_row([\"Decision Tree Classifier\", \"{:.2f}\".format(dtc*100)])\n",
    "Summary.add_row([\"Random Forest Classifier\", \"{:.2f}\".format(rfc*100)])\n",
    "Summary.add_row([\"GridSearchClf_LinearSVC\", \"{:.2f}\".format(GSLinearSVC*100)])\n",
    "\n",
    "print(Summary)"
   ]
  }
 ],
 "metadata": {
  "kernelspec": {
   "display_name": "Python 3",
   "language": "python",
   "name": "python3"
  },
  "language_info": {
   "codemirror_mode": {
    "name": "ipython",
    "version": 3
   },
   "file_extension": ".py",
   "mimetype": "text/x-python",
   "name": "python",
   "nbconvert_exporter": "python",
   "pygments_lexer": "ipython3",
   "version": "3.10.4"
  },
  "papermill": {
   "default_parameters": {},
   "duration": 104.539414,
   "end_time": "2022-04-15T14:09:47.991278",
   "environment_variables": {},
   "exception": null,
   "input_path": "__notebook__.ipynb",
   "output_path": "__notebook__.ipynb",
   "parameters": {},
   "start_time": "2022-04-15T14:08:03.451864",
   "version": "2.3.4"
  }
 },
 "nbformat": 4,
 "nbformat_minor": 5
}
